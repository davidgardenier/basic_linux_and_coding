{
 "cells": [
  {
   "cell_type": "markdown",
   "metadata": {
    "slideshow": {
     "slide_type": "slide"
    }
   },
   "source": [
    "# Linux and Bash"
   ]
  },
  {
   "cell_type": "markdown",
   "metadata": {
    "slideshow": {
     "slide_type": "subslide"
    }
   },
   "source": [
    "## Content\n",
    "* Linux\n",
    "* Bash\n",
    "* Common commands\n",
    "* Glob Patterns\n",
    "* Running programs\n",
    "* Working with files\n",
    "* Permissions\n",
    "* Customizing your bash shell\n",
    "* Unix Pipes"
   ]
  },
  {
   "cell_type": "markdown",
   "metadata": {
    "slideshow": {
     "slide_type": "slide"
    }
   },
   "source": [
    "## Linux\n",
    "*It's everywhere*"
   ]
  },
  {
   "cell_type": "markdown",
   "metadata": {
    "slideshow": {
     "slide_type": "subslide"
    }
   },
   "source": [
    "### Unix\n",
    "\n",
    "* Multi user system\n",
    "* Hierarchical file system\n",
    "* Popular in academia\n",
    "* Basis for Linux"
   ]
  },
  {
   "cell_type": "markdown",
   "metadata": {
    "slideshow": {
     "slide_type": "subslide"
    }
   },
   "source": [
    "### Users\n",
    "\n",
    "* Users are coupled with access rights\n",
    "* The user `root` (aka sudo) has *full* access\n",
    "* Be *very* careful when invoking `root`"
   ]
  },
  {
   "cell_type": "markdown",
   "metadata": {
    "slideshow": {
     "slide_type": "subslide"
    }
   },
   "source": [
    "### File System\n",
    "\n",
    "* Hierarchical -> Directories (folders) can be arbitrarily nested\n",
    "* A child directory (subdirectory) is within a parent directory\n",
    "* At the base is `/` (root)\n",
    "* Two types of paths\n",
    "    * Absolute `/home/john/university/msc/`\n",
    "    * Relative `./university/msc/`\n",
    "* One home directory per user `/home/john`\n",
    "* `scratch` is often used for storage\n",
    "* Hidden files start with `.`"
   ]
  },
  {
   "cell_type": "markdown",
   "metadata": {
    "slideshow": {
     "slide_type": "slide"
    }
   },
   "source": [
    "## Bash\n",
    "*Welcome to your life in the Bourne Again Shell*"
   ]
  },
  {
   "cell_type": "markdown",
   "metadata": {
    "slideshow": {
     "slide_type": "subslide"
    }
   },
   "source": [
    "### How to use it\n",
    "* Accessed via shell/terminal/command line/console\n",
    "* Starts with a prompt `john@deep_thought:/home/john/university/msc/$`\n",
    "* `~` refers to your home directory\n",
    "* Autocomplete using <kbd>Tab</kbd>"
   ]
  },
  {
   "cell_type": "markdown",
   "metadata": {
    "slideshow": {
     "slide_type": "slide"
    }
   },
   "source": [
    "## Common commands\n",
    "*You **will** need these*"
   ]
  },
  {
   "cell_type": "markdown",
   "metadata": {
    "slideshow": {
     "slide_type": "subslide"
    }
   },
   "source": [
    "* `pwd` Check your working directory"
   ]
  },
  {
   "cell_type": "markdown",
   "metadata": {
    "slideshow": {
     "slide_type": "subslide"
    }
   },
   "source": [
    "* `cd` Change directory\n",
    "    * Each directory allows has a `.` and `..` file\n",
    "    * These are shorthand for current and parent directory"
   ]
  },
  {
   "cell_type": "markdown",
   "metadata": {
    "slideshow": {
     "slide_type": "subslide"
    }
   },
   "source": [
    "* `ls` List contents of a directory\n",
    "    * Use flags to pass options to the command, eg\n",
    "    * `-h` Human readable\n",
    "    * `-a` Show hidden files\n",
    "    * `-R` Recursively show all files\n",
    "    * They can be combined, eg `-lrt`"
   ]
  },
  {
   "cell_type": "markdown",
   "metadata": {
    "slideshow": {
     "slide_type": "subslide"
    }
   },
   "source": [
    "* `cp` Copy files\n",
    "    * Invoked with `cp source destination`\n",
    "    * Use `-r` to also copy the contents of a directory"
   ]
  },
  {
   "cell_type": "markdown",
   "metadata": {
    "slideshow": {
     "slide_type": "subslide"
    }
   },
   "source": [
    "* `mv` Move files\n",
    "    * Also invoked with `mv source destination`\n",
    "    * Can be used to rename files"
   ]
  },
  {
   "cell_type": "markdown",
   "metadata": {
    "slideshow": {
     "slide_type": "subslide"
    }
   },
   "source": [
    "* `rm` Remove files\n",
    "    * Invoke with `rm file`"
   ]
  },
  {
   "cell_type": "markdown",
   "metadata": {
    "slideshow": {
     "slide_type": "subslide"
    }
   },
   "source": [
    "* `rmdir` Remove directories\n",
    "    * Invoke with `rm directory`\n",
    "    * Use `rm -rf *` to recursively remove directories\n",
    "    * Be *very* careful with it - you can break *everything*\n",
    "    * Incidentally `*` is a joker, and pretty helpful (`ls *.py`)"
   ]
  },
  {
   "cell_type": "markdown",
   "metadata": {
    "slideshow": {
     "slide_type": "subslide"
    }
   },
   "source": [
    "* `mkdir` Make directories\n",
    "    * Invoke with `mkdir test_folder`\n",
    "    * Recursively with `mkdir -p test_folder/sub_1/sub_2`"
   ]
  },
  {
   "cell_type": "markdown",
   "metadata": {
    "slideshow": {
     "slide_type": "subslide"
    }
   },
   "source": [
    "### Getting help\n",
    "\n",
    "* For a command line program with `-?`, `-h` or `--help`\n",
    "* In general just type `man <program-name>`, like `man ls`"
   ]
  },
  {
   "cell_type": "markdown",
   "metadata": {
    "slideshow": {
     "slide_type": "slide"
    }
   },
   "source": [
    "## Glob Patterns\n",
    "*For when you're lazy*"
   ]
  },
  {
   "cell_type": "markdown",
   "metadata": {
    "slideshow": {
     "slide_type": "subslide"
    }
   },
   "source": [
    "* `*` matches any text in filename\n",
    "* `?` matches zero or one character\n",
    "* `[ABC]` matches any of A, B, or C\n",
    "* `[0-9]` matches numbers in a range\n",
    "* `[a-z]`, `[A-Z]` matches lower, upper case in range\n",
    "* `[A-Za-z]` matches any range\n",
    "* `\\` allows a glob character to be matched, like `\\*`\n",
    "* `!` negate a pattern"
   ]
  },
  {
   "cell_type": "markdown",
   "metadata": {
    "slideshow": {
     "slide_type": "slide"
    }
   },
   "source": [
    "## Running programs\n",
    "*Otherwise nothing will happen*"
   ]
  },
  {
   "cell_type": "markdown",
   "metadata": {
    "slideshow": {
     "slide_type": "subslide"
    }
   },
   "source": [
    "* `ls` is an example of a program, but so is `python3`\n",
    "* You might not always have permissions to run certain programs"
   ]
  },
  {
   "cell_type": "markdown",
   "metadata": {
    "slideshow": {
     "slide_type": "subslide"
    }
   },
   "source": [
    "### Long running programs\n",
    "* Start a program in the background by appending a ` &`\n",
    "* Move it back to the foreground with `fg`\n",
    "* Suspend a program with <kbd>Ctrl</kbd>+<kbd>z</kbd>, and move it to the background with `bg`\n",
    "* Stop a program with <kbd>Ctrl</kbd>+<kbd>c</kbd>\n",
    "* (Copy and paste text with <kbd>Ctrl</kbd>+<kbd>Shift</kbd>+<kbd>c</kbd>, <kbd>Ctrl</kbd>+<kbd>Shift</kbd>+<kbd>v</kbd>)"
   ]
  },
  {
   "cell_type": "markdown",
   "metadata": {
    "slideshow": {
     "slide_type": "subslide"
    }
   },
   "source": [
    "### Ssh'ing and screen\n",
    "* Sometimes you'll run a program on a different computer\n",
    "* You can access it via `ssh`\n",
    "* Start a long-running program in a `screen` session\n",
    "* Log out, and it will still be running"
   ]
  },
  {
   "cell_type": "markdown",
   "metadata": {
    "slideshow": {
     "slide_type": "subslide"
    }
   },
   "source": [
    "### Working out what your computer is doing\n",
    "* Your computer starts making sounds?\n",
    "* Check what's going on with `top` or `ps`\n",
    "* The process number (PID) can be used to kill a process\n",
    "    * `kill <PID>`"
   ]
  },
  {
   "cell_type": "markdown",
   "metadata": {
    "slideshow": {
     "slide_type": "slide"
    }
   },
   "source": [
    "## Working with files\n",
    "*Science <-> Data <-> Files*"
   ]
  },
  {
   "cell_type": "markdown",
   "metadata": {
    "slideshow": {
     "slide_type": "subslide"
    }
   },
   "source": [
    "### Working with text files"
   ]
  },
  {
   "cell_type": "markdown",
   "metadata": {
    "slideshow": {
     "slide_type": "fragment"
    }
   },
   "source": [
    "* `cat` prints the contents of a file\n",
    "* `head` for a quick look at the head of a file\n",
    "* `tail` for a quick look at the tail of a file\n",
    "* `wc -l` number of lines"
   ]
  },
  {
   "cell_type": "markdown",
   "metadata": {
    "slideshow": {
     "slide_type": "fragment"
    }
   },
   "source": [
    "* `grep <text> <file>` Search within text\n",
    "    * `-i` Insensitive matches\n",
    "    * `-n` Line number\n",
    "    * `-H` Print file name (handy if combining with `*`)"
   ]
  },
  {
   "cell_type": "markdown",
   "metadata": {
    "slideshow": {
     "slide_type": "subslide"
    }
   },
   "source": [
    "### Finding a file\n",
    "\n",
    "* `find . -name \"<filename>\"` Looks a file in the current, and subdirectories"
   ]
  },
  {
   "cell_type": "markdown",
   "metadata": {
    "slideshow": {
     "slide_type": "subslide"
    }
   },
   "source": [
    "### Compressing files\n",
    "\n",
    "* Files can be big, and can be compressed\n",
    "* Windows commonly uses `zip` files, Unix `.gz` files\n",
    "* `gzip <filename>` compresses the file\n",
    "* `gunzip <filename>` decompresses the file\n",
    "* Software or data often comes in tarball-files (`.tar.gz`)\n",
    "* `tar -czf <zipped_filename> <files>` creates one\n",
    "* `tar -xzf <zipped_filename>` unpacks one\n",
    "* Helpful for Arxiv files"
   ]
  },
  {
   "cell_type": "markdown",
   "metadata": {
    "slideshow": {
     "slide_type": "slide"
    }
   },
   "source": [
    "## Permissions\n",
    "*You're not allowed to do everything*"
   ]
  },
  {
   "cell_type": "markdown",
   "metadata": {
    "slideshow": {
     "slide_type": "subslide"
    }
   },
   "source": [
    "* Giving everyone access to everythings is bad\n",
    "* Each Unix file has three permissions:\n",
    "    * Read\n",
    "    * Write\n",
    "    * Execute"
   ]
  },
  {
   "cell_type": "markdown",
   "metadata": {
    "slideshow": {
     "slide_type": "subslide"
    }
   },
   "source": [
    "* This can be complicated\n",
    "* Take the first column of a row in `ls -l`, eg `-rw-r--r--`\n",
    "    * `-` means it's a file rather than a directory `d` or symbolic link `l`\n",
    "    * Each triplet afterwards refers to read, write, execute\n",
    "    * Letter is permission, dash is not\n",
    "    * `rw-` owner\n",
    "    * `r--` group\n",
    "    * `r--` everyone else\n",
    "* Permissions can be changed with `chmod`"
   ]
  },
  {
   "cell_type": "markdown",
   "metadata": {
    "slideshow": {
     "slide_type": "subslide"
    }
   },
   "source": [
    "* Sometimes it's easier just to temporarily acquire `root` privileges, eg\n",
    "* `lshw` lists hardware\n",
    "* `sudo lshw` gives access to more details"
   ]
  },
  {
   "cell_type": "markdown",
   "metadata": {
    "slideshow": {
     "slide_type": "slide"
    }
   },
   "source": [
    "## Customizing your bash shell\n",
    "*Making your life easier*"
   ]
  },
  {
   "cell_type": "markdown",
   "metadata": {
    "slideshow": {
     "slide_type": "subslide"
    }
   },
   "source": [
    "### Environment Variables\n",
    "* `$PATH` for instance gives the list of directories searched for executables\n",
    "* Variables can be set with `export GREETING=\"G'day\"`\n",
    "* Check that with `echo $GREETING`"
   ]
  },
  {
   "cell_type": "markdown",
   "metadata": {
    "slideshow": {
     "slide_type": "subslide"
    }
   },
   "source": [
    "### Bash Aliases\n",
    "* Find you're having to type the same commands over and over?\n",
    "* Place a bash alias in your `.bash_aliases` file\n",
    "* For instance, starting with work in this course you might use:\n",
    "    ```bash\n",
    "    alias coding_course='cd ~/msc/basic_linux_and_coding; source ./course-env/bin/activate'\n",
    "    ```\n",
    "  Now you only need to type `coding_course` into your terminal to start all those steps\n",
    "* Functions are also possible\n",
    "    ```bash\n",
    "    backup() { python3 /long/file/path/backup.py $1;}\n",
    "    ```\n",
    "    allowing you to type\n",
    "    ```bash\n",
    "    backup month\n",
    "    ```"
   ]
  },
  {
   "cell_type": "markdown",
   "metadata": {
    "slideshow": {
     "slide_type": "subslide"
    }
   },
   "source": [
    "### For loops\n",
    "* Sometimes this can help:\n",
    "    ```bash\n",
    "    for dir in $(ls); do command $dir & done\n",
    "    ```"
   ]
  },
  {
   "cell_type": "markdown",
   "metadata": {
    "slideshow": {
     "slide_type": "slide"
    }
   },
   "source": [
    "## Unix Pipes\n",
    "*Essential plumbing for connecting commands*"
   ]
  },
  {
   "cell_type": "markdown",
   "metadata": {
    "slideshow": {
     "slide_type": "subslide"
    }
   },
   "source": [
    "* `;` allows you to put multiple lines on a single line, eg\n",
    "* `cd ~; ls -la`"
   ]
  },
  {
   "cell_type": "markdown",
   "metadata": {
    "slideshow": {
     "slide_type": "subslide"
    }
   },
   "source": [
    "* `|` allows you to send the output of one program to the next, eg\n",
    "* `la -la | grep \".bash_aliases\"`, or\n",
    "* `cat sherlock.txt | grep \"Sherlock\" | sort | head`"
   ]
  },
  {
   "cell_type": "markdown",
   "metadata": {
    "slideshow": {
     "slide_type": "subslide"
    }
   },
   "source": [
    "* `>` allows you to redirect output to a file, eg\n",
    "    ```bash\n",
    "    ls -lh | sort -rk8 > tmp.log \n",
    "    ```\n",
    "* `>>` will *append* it to a file if it already exists\n",
    "* `2>&1` will also include any errors"
   ]
  }
 ],
 "metadata": {
  "celltoolbar": "Slideshow",
  "kernelspec": {
   "display_name": "Python 3",
   "language": "python",
   "name": "python3"
  },
  "language_info": {
   "codemirror_mode": {
    "name": "ipython",
    "version": 3
   },
   "file_extension": ".py",
   "mimetype": "text/x-python",
   "name": "python",
   "nbconvert_exporter": "python",
   "pygments_lexer": "ipython3",
   "version": "3.6.5"
  }
 },
 "nbformat": 4,
 "nbformat_minor": 2
}
