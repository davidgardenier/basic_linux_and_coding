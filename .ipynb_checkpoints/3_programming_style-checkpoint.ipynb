{
 "cells": [
  {
   "cell_type": "markdown",
   "metadata": {},
   "source": [
    "# Programming style"
   ]
  },
  {
   "cell_type": "markdown",
   "metadata": {
    "toc": true
   },
   "source": [
    "<h1>Table of Contents<span class=\"tocSkip\"></span></h1>\n",
    "<div class=\"toc\"><ul class=\"toc-item\"><li><span><a href=\"#Functions\" data-toc-modified-id=\"Functions-1\"><span class=\"toc-item-num\">1&nbsp;&nbsp;</span>Functions</a></span><ul class=\"toc-item\"><li><span><a href=\"#Args-and-kwargs\" data-toc-modified-id=\"Args-and-kwargs-1.1\"><span class=\"toc-item-num\">1.1&nbsp;&nbsp;</span>Args and kwargs</a></span></li><li><span><a href=\"#Scope-and-namespaces\" data-toc-modified-id=\"Scope-and-namespaces-1.2\"><span class=\"toc-item-num\">1.2&nbsp;&nbsp;</span>Scope and namespaces</a></span></li></ul></li><li><span><a href=\"#Classes\" data-toc-modified-id=\"Classes-2\"><span class=\"toc-item-num\">2&nbsp;&nbsp;</span>Classes</a></span></li><li><span><a href=\"#Program-structure\" data-toc-modified-id=\"Program-structure-3\"><span class=\"toc-item-num\">3&nbsp;&nbsp;</span>Program structure</a></span><ul class=\"toc-item\"><li><span><a href=\"#Relative-imports\" data-toc-modified-id=\"Relative-imports-3.1\"><span class=\"toc-item-num\">3.1&nbsp;&nbsp;</span>Relative imports</a></span></li><li><span><a href=\"#if-__name__-==-'__main__'\" data-toc-modified-id=\"if-__name__-==-'__main__'-3.2\"><span class=\"toc-item-num\">3.2&nbsp;&nbsp;</span><code>if __name__ == '__main__'</code></a></span></li></ul></li><li><span><a href=\"#Conventions\" data-toc-modified-id=\"Conventions-4\"><span class=\"toc-item-num\">4&nbsp;&nbsp;</span>Conventions</a></span><ul class=\"toc-item\"><li><span><a href=\"#Pep8\" data-toc-modified-id=\"Pep8-4.1\"><span class=\"toc-item-num\">4.1&nbsp;&nbsp;</span>Pep8</a></span></li><li><span><a href=\"#Shebang\" data-toc-modified-id=\"Shebang-4.2\"><span class=\"toc-item-num\">4.2&nbsp;&nbsp;</span>Shebang</a></span></li><li><span><a href=\"#Indents\" data-toc-modified-id=\"Indents-4.3\"><span class=\"toc-item-num\">4.3&nbsp;&nbsp;</span>Indents</a></span></li><li><span><a href=\"#Naming\" data-toc-modified-id=\"Naming-4.4\"><span class=\"toc-item-num\">4.4&nbsp;&nbsp;</span>Naming</a></span><ul class=\"toc-item\"><li><span><a href=\"#Built-in-names\" data-toc-modified-id=\"Built-in-names-4.4.1\"><span class=\"toc-item-num\">4.4.1&nbsp;&nbsp;</span>Built-in names</a></span></li></ul></li><li><span><a href=\"#Whitespace\" data-toc-modified-id=\"Whitespace-4.5\"><span class=\"toc-item-num\">4.5&nbsp;&nbsp;</span>Whitespace</a></span></li><li><span><a href=\"#Linelength\" data-toc-modified-id=\"Linelength-4.6\"><span class=\"toc-item-num\">4.6&nbsp;&nbsp;</span>Linelength</a></span></li><li><span><a href=\"#Commented-code\" data-toc-modified-id=\"Commented-code-4.7\"><span class=\"toc-item-num\">4.7&nbsp;&nbsp;</span>Commented code</a></span></li><li><span><a href=\"#Documentation\" data-toc-modified-id=\"Documentation-4.8\"><span class=\"toc-item-num\">4.8&nbsp;&nbsp;</span>Documentation</a></span></li></ul></li><li><span><a href=\"#Error-handling\" data-toc-modified-id=\"Error-handling-5\"><span class=\"toc-item-num\">5&nbsp;&nbsp;</span>Error handling</a></span></li><li><span><a href=\"#Project-setup\" data-toc-modified-id=\"Project-setup-6\"><span class=\"toc-item-num\">6&nbsp;&nbsp;</span>Project setup</a></span><ul class=\"toc-item\"><li><span><a href=\"#Virtual-Environment\" data-toc-modified-id=\"Virtual-Environment-6.1\"><span class=\"toc-item-num\">6.1&nbsp;&nbsp;</span>Virtual Environment</a></span></li><li><span><a href=\"#Conda\" data-toc-modified-id=\"Conda-6.2\"><span class=\"toc-item-num\">6.2&nbsp;&nbsp;</span>Conda</a></span></li><li><span><a href=\"#Directory-structure\" data-toc-modified-id=\"Directory-structure-6.3\"><span class=\"toc-item-num\">6.3&nbsp;&nbsp;</span>Directory structure</a></span><ul class=\"toc-item\"><li><span><a href=\"#Licences\" data-toc-modified-id=\"Licences-6.3.1\"><span class=\"toc-item-num\">6.3.1&nbsp;&nbsp;</span>Licences</a></span></li><li><span><a href=\"#Program-structure\" data-toc-modified-id=\"Program-structure-6.3.2\"><span class=\"toc-item-num\">6.3.2&nbsp;&nbsp;</span>Program structure</a></span></li></ul></li></ul></li><li><span><a href=\"#Getting-help\" data-toc-modified-id=\"Getting-help-7\"><span class=\"toc-item-num\">7&nbsp;&nbsp;</span>Getting help</a></span><ul class=\"toc-item\"><li><span><a href=\"#Stackoverflow\" data-toc-modified-id=\"Stackoverflow-7.1\"><span class=\"toc-item-num\">7.1&nbsp;&nbsp;</span>Stackoverflow</a></span></li></ul></li></ul></div>"
   ]
  },
  {
   "cell_type": "markdown",
   "metadata": {},
   "source": [
    "## Libraries\n",
    "## Functions\n",
    "### Args and kwargs\n",
    "### Scope and namespaces\n",
    "## Classes\n",
    "## Program structure\n",
    "### Relative imports\n",
    "### `if __name__ == '__main__'`\n",
    "## Conventions\n",
    "### Pep8\n",
    "### Shebang\n",
    "### Indents\n",
    "### Naming\n",
    "#### Built-in names\n",
    "### Whitespace\n",
    "### Linelength\n",
    "### Commented code\n",
    "### Documentation\n",
    "## Error handling\n",
    "## Project setup\n",
    "### Virtual Environment\n",
    "### Conda\n",
    "### Directory structure\n",
    "#### Licences\n",
    "#### Program structure\n",
    "## Getting help\n",
    "### Stackoverflow"
   ]
  }
 ],
 "metadata": {
  "kernelspec": {
   "display_name": "Python 3",
   "language": "python",
   "name": "python3"
  },
  "language_info": {
   "codemirror_mode": {
    "name": "ipython",
    "version": 3
   },
   "file_extension": ".py",
   "mimetype": "text/x-python",
   "name": "python",
   "nbconvert_exporter": "python",
   "pygments_lexer": "ipython3",
   "version": "3.6.5"
  },
  "toc": {
   "base_numbering": 1,
   "nav_menu": {},
   "number_sections": true,
   "sideBar": false,
   "skip_h1_title": true,
   "title_cell": "Table of Contents",
   "title_sidebar": "Contents",
   "toc_cell": true,
   "toc_position": {
    "height": "602px",
    "left": "35px",
    "top": "210px",
    "width": "384px"
   },
   "toc_section_display": true,
   "toc_window_display": false
  }
 },
 "nbformat": 4,
 "nbformat_minor": 2
}
