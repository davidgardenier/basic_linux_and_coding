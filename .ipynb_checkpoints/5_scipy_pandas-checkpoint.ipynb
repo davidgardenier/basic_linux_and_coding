{
 "cells": [
  {
   "cell_type": "markdown",
   "metadata": {
    "slideshow": {
     "slide_type": "slide"
    }
   },
   "source": [
    "# Scientific analysis in Python"
   ]
  },
  {
   "attachments": {},
   "cell_type": "markdown",
   "metadata": {
    "slideshow": {
     "slide_type": "slide"
    }
   },
   "source": [
    "![scipy.png](media/scipy.png)"
   ]
  },
  {
   "cell_type": "markdown",
   "metadata": {
    "slideshow": {
     "slide_type": "slide"
    }
   },
   "source": [
    " - collection of packages and functions based on NumPy\n",
    " - the goal is to have similar functionality as is available in MATLAB, IDL, R...\n",
    " - heavily integrated with NumPy and matplotlib"
   ]
  },
  {
   "cell_type": "markdown",
   "metadata": {
    "slideshow": {
     "slide_type": "slide"
    }
   },
   "source": [
    "## Organized in Sub-packages\n",
    "### need to be individually imported\n",
    "\n",
    "    cluster \t    Clustering algorithms\n",
    "    constants       Physical and mathematical constants\n",
    "    fftpack         Fast Fourier Transform routines\n",
    "    integrate       Integration and ordinary differential equation solvers\n",
    "    interpolate     Interpolation and smoothing splines\n",
    "    io              Input and Output\n",
    "    linalg          Linear algebra\n",
    "    ndimage         N-dimensional image processing\n",
    "    odr             Orthogonal distance regression\n",
    "    optimize        Optimization and root-finding routines\n",
    "    signal          Signal processing\n",
    "    sparse          Sparse matrices and associated routines\n",
    "    spatial         Spatial data structures and algorithms\n",
    "    special         Special functions\n",
    "    stats           Statistical distributions and functions"
   ]
  },
  {
   "cell_type": "markdown",
   "metadata": {
    "slideshow": {
     "slide_type": "slide"
    }
   },
   "source": [
    "DO:\n",
    "\n",
    "from scipy import ndimage\n",
    "\n",
    "DON'T:\n",
    "\n",
    "import scipy\n",
    "\n",
    "from scipy import *"
   ]
  },
  {
   "cell_type": "markdown",
   "metadata": {
    "slideshow": {
     "slide_type": "slide"
    }
   },
   "source": [
    "## Interpolation"
   ]
  },
  {
   "cell_type": "markdown",
   "metadata": {
    "slideshow": {
     "slide_type": "slide"
    }
   },
   "source": [
    "### 1d Interpolation"
   ]
  },
  {
   "cell_type": "code",
   "execution_count": null,
   "metadata": {},
   "outputs": [],
   "source": [
    "import numpy as np\n",
    "import matplotlib.pyplot as plt\n",
    "from scipy.interpolate import interp1d\n",
    "\n",
    "x = np.linspace(0, 10, num=11, endpoint=True)\n",
    "y = np.cos(-x**2/9.0)\n",
    "f = interp1d(x, y)\n",
    "f2 = interp1d(x, y, kind='cubic')\n",
    "f3 = interp1d(x, y, kind='next')\n",
    "\n",
    "xnew = np.linspace(0, 10, num=100, endpoint=True)\n",
    "plt.plot(x, y, 'o')\n",
    "plt.plot(xnew, f(xnew), '-') \n",
    "plt.plot(xnew, f2(xnew), '--')\n",
    "plt.plot(xnew, f3(xnew), ':')\n",
    "plt.legend(['data', 'linear', 'cubic','nearest'], loc='best')\n",
    "plt.show()"
   ]
  },
  {
   "cell_type": "markdown",
   "metadata": {
    "slideshow": {
     "slide_type": "slide"
    }
   },
   "source": [
    "### 2d Interpolation"
   ]
  },
  {
   "cell_type": "code",
   "execution_count": null,
   "metadata": {},
   "outputs": [],
   "source": [
    "import numpy as np\n",
    "import matplotlib.pyplot as plt\n",
    "from scipy.interpolate import griddata\n",
    "\n",
    "def func(x, y):\n",
    "    return x*(1-x)*np.cos(4*np.pi*x) * np.sin(4*np.pi*y**2)**2\n",
    "\n",
    "grid_x, grid_y = np.mgrid[0:1:100j, 0:1:200j]\n",
    "\n",
    "points = np.random.rand(1000, 2)\n",
    "values = func(points[:,0], points[:,1])\n",
    "\n",
    "grid_z0 = griddata(points, values, (grid_x, grid_y), method='nearest')\n",
    "grid_z1 = griddata(points, values, (grid_x, grid_y), method='linear')\n",
    "grid_z2 = griddata(points, values, (grid_x, grid_y), method='cubic')"
   ]
  },
  {
   "cell_type": "code",
   "execution_count": null,
   "metadata": {
    "slideshow": {
     "slide_type": "slide"
    }
   },
   "outputs": [],
   "source": [
    "plt.subplot(221)\n",
    "plt.imshow(func(grid_x, grid_y).T, extent=(0,1,0,1), origin='lower')\n",
    "plt.plot(points[:,0], points[:,1], 'k.', ms=1)\n",
    "plt.title('Original')\n",
    "plt.subplot(222)\n",
    "plt.imshow(grid_z0.T, extent=(0,1,0,1), origin='lower')\n",
    "plt.title('Nearest')\n",
    "plt.subplot(223)\n",
    "plt.imshow(grid_z1.T, extent=(0,1,0,1), origin='lower')\n",
    "plt.title('Linear')\n",
    "plt.subplot(224)\n",
    "plt.imshow(grid_z2.T, extent=(0,1,0,1), origin='lower')\n",
    "plt.title('Cubic')\n",
    "plt.gcf().set_size_inches(6, 6)\n",
    "plt.show()"
   ]
  },
  {
   "cell_type": "markdown",
   "metadata": {
    "slideshow": {
     "slide_type": "slide"
    }
   },
   "source": [
    "## Integration"
   ]
  },
  {
   "cell_type": "markdown",
   "metadata": {
    "slideshow": {
     "slide_type": "slide"
    }
   },
   "source": [
    "### Numerical Integration\n",
    "\n",
    "Suppose we want to integrate any function $f(x)$ within the boarders $a$ and $b$\n",
    "\n",
    "$\\int_{a}^{b} f(x) dx$\n",
    "\n",
    "Say for a concrete example $\\int_{0}^{\\pi/2} sin(x) dx$ "
   ]
  },
  {
   "cell_type": "code",
   "execution_count": null,
   "metadata": {},
   "outputs": [],
   "source": [
    "import numpy as np\n",
    "import matplotlib.pyplot as plt\n",
    "from scipy.integrate import quad\n",
    "\n",
    "# quad integrates the function using adaptive Gaussian quadrature from the Fortran QUADPACK library\n",
    "\n",
    "res, err = quad(np.sin, 0, np.pi/2)\n",
    "\n",
    "print(res)\n",
    "print(err)"
   ]
  },
  {
   "cell_type": "markdown",
   "metadata": {
    "slideshow": {
     "slide_type": "slide"
    }
   },
   "source": [
    "### Integrating ordinary differential equations (ODE)\n",
    "\n",
    "Lets use the example: $\\frac{dy}{dt} = -2y$\n",
    "\n",
    "We want to integrate this equation between $t=0$ and $t=4$ with initial condition $y(t=0)=1$ "
   ]
  },
  {
   "cell_type": "code",
   "execution_count": null,
   "metadata": {},
   "outputs": [],
   "source": [
    "from scipy.integrate import odeint\n",
    "\n",
    "def calc_derivative(ypos, time):\n",
    "    return -2 * ypos\n",
    "\n",
    "time_vec = np.linspace(0, 4, 40)\n",
    "y = odeint(calc_derivative, y0=1, t=time_vec)\n",
    "\n",
    "plt.plot(time_vec,y)\n",
    "plt.show()"
   ]
  },
  {
   "cell_type": "markdown",
   "metadata": {
    "slideshow": {
     "slide_type": "slide"
    }
   },
   "source": [
    "## Optimization"
   ]
  },
  {
   "cell_type": "markdown",
   "metadata": {
    "slideshow": {
     "slide_type": "slide"
    }
   },
   "source": [
    "### Curve fitting"
   ]
  },
  {
   "cell_type": "code",
   "execution_count": null,
   "metadata": {
    "slideshow": {
     "slide_type": "-"
    }
   },
   "outputs": [],
   "source": [
    "import numpy as np\n",
    "import matplotlib.pyplot as plt\n",
    "from scipy import optimize\n",
    "\n",
    "x_data = np.linspace(-5, 5, num=50)\n",
    "y_data = 2.9 * np.sin(1.5 * x_data) + np.random.normal(size=50)\n",
    "\n",
    "# We know that the data lies on a sine wave, but not the amplitudes or the period.\n",
    "\n",
    "plt.plot(x_data,y_data,\"o\")\n",
    "plt.show()"
   ]
  },
  {
   "cell_type": "code",
   "execution_count": null,
   "metadata": {
    "slideshow": {
     "slide_type": "slide"
    }
   },
   "outputs": [],
   "source": [
    "# Set up a function with free parameters to fit to the data\n",
    "\n",
    "def test_func(x, a, b):\n",
    "    return a * np.sin(b * x)\n",
    "\n",
    "params, params_covariance = optimize.curve_fit(test_func, x_data, y_data, p0=[2, 2])\n",
    "print(params)\n",
    "\n",
    "plt.plot(x_data,y_data,\"o\")\n",
    "plt.plot(x_data,test_func(x_data,params[0],params[1]),\"r-\")\n",
    "plt.show()"
   ]
  },
  {
   "cell_type": "markdown",
   "metadata": {
    "slideshow": {
     "slide_type": "slide"
    }
   },
   "source": [
    "### Finding the minimum"
   ]
  },
  {
   "cell_type": "code",
   "execution_count": null,
   "metadata": {},
   "outputs": [],
   "source": [
    "import numpy as np\n",
    "import matplotlib.pyplot as plt\n",
    "from scipy import optimize\n",
    "\n",
    "def f(x):\n",
    "    return x**2 + 10*np.sin(x)\n",
    "\n",
    "x = np.arange(-10, 10, 0.1)\n",
    "plt.plot(x, f(x)) \n",
    "plt.show() "
   ]
  },
  {
   "cell_type": "code",
   "execution_count": null,
   "metadata": {
    "slideshow": {
     "slide_type": "slide"
    }
   },
   "outputs": [],
   "source": [
    "result = optimize.minimize(f, x0=0)\n",
    "\n",
    "# Uses by default the Broyden–Fletcher–Goldfarb–Shanno algorithm but another algorithm can be defined.\n",
    "# result is a compound object that contains all the information of the minimization attempt\n",
    "\n",
    "print(result)\n",
    "plt.plot(x, f(x))\n",
    "plt.plot(result.x, f(result.x),\"ro\")\n",
    "plt.show()"
   ]
  },
  {
   "attachments": {},
   "cell_type": "markdown",
   "metadata": {
    "slideshow": {
     "slide_type": "slide"
    }
   },
   "source": [
    "### Orbit fitting with SciPy\n",
    "![lsmc.jpg](media/lsmc.jpg)"
   ]
  },
  {
   "attachments": {},
   "cell_type": "markdown",
   "metadata": {
    "slideshow": {
     "slide_type": "slide"
    }
   },
   "source": [
    "![lsmc2.jpg](media/lsmc2.jpg)"
   ]
  },
  {
   "cell_type": "markdown",
   "metadata": {
    "slideshow": {
     "slide_type": "slide"
    }
   },
   "source": [
    "## Fourier Transforms"
   ]
  },
  {
   "cell_type": "code",
   "execution_count": null,
   "metadata": {},
   "outputs": [],
   "source": [
    "import numpy as np\n",
    "from scipy import fftpack\n",
    "from matplotlib import pyplot as plt\n",
    "\n",
    "time_step = 0.02\n",
    "period = 5.\n",
    "\n",
    "time_vec = np.arange(0, 20, time_step)\n",
    "sig = (np.sin(2 * np.pi / period * time_vec) + 0.5 * np.random.randn(time_vec.size))\n",
    "\n",
    "plt.plot(time_vec, sig, label='Original signal')\n",
    "plt.show()"
   ]
  },
  {
   "cell_type": "code",
   "execution_count": null,
   "metadata": {
    "slideshow": {
     "slide_type": "slide"
    }
   },
   "outputs": [],
   "source": [
    "# The FFT of the signal\n",
    "sig_fft = fftpack.fft(sig)\n",
    "\n",
    "# And the power (sig_fft is of complex dtype)\n",
    "power = np.abs(sig_fft)\n",
    "\n",
    "# The corresponding frequencies\n",
    "sample_freq = fftpack.fftfreq(sig.size, d=time_step)\n",
    "\n",
    "# Plot the FFT power\n",
    "plt.figure(figsize=(6, 5))\n",
    "plt.plot(sample_freq, power)\n",
    "plt.xlabel('Frequency [Hz]')\n",
    "plt.ylabel('power')"
   ]
  },
  {
   "cell_type": "code",
   "execution_count": null,
   "metadata": {
    "slideshow": {
     "slide_type": "slide"
    }
   },
   "outputs": [],
   "source": [
    "# Find the peak frequency: we can focus on only the positive frequencies\n",
    "pos_mask = np.where(sample_freq > 0)\n",
    "freqs = sample_freq[pos_mask]\n",
    "peak_freq = freqs[power[pos_mask].argmax()]\n",
    "\n",
    "high_freq_fft = sig_fft.copy()\n",
    "high_freq_fft[np.abs(sample_freq) > peak_freq] = 0\n",
    "filtered_sig = fftpack.ifft(high_freq_fft)\n",
    "\n",
    "plt.figure(figsize=(6, 5))\n",
    "plt.plot(time_vec, sig, label='Original signal')\n",
    "plt.plot(time_vec, filtered_sig, linewidth=3, label='Filtered signal')\n",
    "plt.xlabel('Time [s]')\n",
    "plt.ylabel('Amplitude')\n",
    "\n",
    "plt.legend(loc='best')\n",
    "plt.show()"
   ]
  },
  {
   "cell_type": "markdown",
   "metadata": {
    "slideshow": {
     "slide_type": "slide"
    }
   },
   "source": [
    "## Image processing"
   ]
  },
  {
   "cell_type": "code",
   "execution_count": null,
   "metadata": {},
   "outputs": [],
   "source": [
    "import astropy.io.fits as fits\n",
    "import matplotlib.pyplot as plt\n",
    "from scipy import ndimage as nd\n",
    "from scipy.ndimage.filters import gaussian_filter\n",
    "\n",
    "fits_file = fits.open(\"./data/exohost.fits\")\n",
    "data_array = fits_file[0].data\n",
    "\n",
    "plt.imshow(data_array, origin='lower', cmap=plt.cm.gist_heat , vmin=-10, vmax=200)\n",
    "plt.show()\n"
   ]
  },
  {
   "cell_type": "markdown",
   "metadata": {
    "slideshow": {
     "slide_type": "slide"
    }
   },
   "source": [
    "### High-pass filter"
   ]
  },
  {
   "cell_type": "code",
   "execution_count": null,
   "metadata": {
    "slideshow": {
     "slide_type": "-"
    }
   },
   "outputs": [],
   "source": [
    "low_frequ = gaussian_filter(data_array, sigma=10, truncate=6.1)\n",
    "\n",
    "high_pass_filtered_image = data_array - low_frequ\n",
    "\n",
    "plt.imshow(high_pass_filtered_image, origin='lower', cmap=plt.cm.gist_heat , vmin=-10, vmax=200)\n",
    "plt.show()"
   ]
  },
  {
   "cell_type": "markdown",
   "metadata": {
    "slideshow": {
     "slide_type": "slide"
    }
   },
   "source": [
    "### Remove radial average"
   ]
  },
  {
   "cell_type": "code",
   "execution_count": null,
   "metadata": {},
   "outputs": [],
   "source": [
    "rot_angles = np.arange(0,180,5)\n",
    "rotated_images = []\n",
    "\n",
    "for angle in rot_angles:\n",
    "    rotated = nd.rotate(data_array, angle, axes=(-1, -2), reshape=False, output=None, order=3, mode='constant', cval=0.0, prefilter=True)\n",
    "    diff = data_array - rotated\n",
    "    rotated_images.append(diff)\n",
    "\n",
    "rotated_images = np.array(rotated_images)\n",
    "final_subtracted_result = np.median(rotated_images, axis=0)\n",
    "\n",
    "plt.imshow(final_subtracted_result, origin='lower', cmap=plt.cm.gist_heat , vmin=-10, vmax=200)\n",
    "plt.show()"
   ]
  },
  {
   "attachments": {},
   "cell_type": "markdown",
   "metadata": {
    "slideshow": {
     "slide_type": "slide"
    }
   },
   "source": [
    "![pandas1.png](media/pandas_logo.png)"
   ]
  },
  {
   "cell_type": "markdown",
   "metadata": {
    "slideshow": {
     "slide_type": "slide"
    }
   },
   "source": [
    "- flexible and expressive data structures with NumPy and SciPy under the hood (so fast!)\n",
    "- deals well with heterogeneous data sets and in particular labeled data\n",
    "- well suited for large data sets including missing data\n",
    "- very strong for ordered or un-ordered time series\n",
    "- easy in- and output interfaces with multiple data formats, including excel tables\n",
    "\n",
    "### Think excel for python!"
   ]
  },
  {
   "cell_type": "markdown",
   "metadata": {
    "slideshow": {
     "slide_type": "slide"
    }
   },
   "source": [
    "## Creating and manipulating pandas data frame"
   ]
  },
  {
   "cell_type": "code",
   "execution_count": 20,
   "metadata": {},
   "outputs": [
    {
     "name": "stdout",
     "output_type": "stream",
     "text": [
      "DatetimeIndex(['2013-01-01', '2013-01-02', '2013-01-03', '2013-01-04',\n",
      "               '2013-01-05', '2013-01-06'],\n",
      "              dtype='datetime64[ns]', freq='D')\n"
     ]
    }
   ],
   "source": [
    "import pandas as pd\n",
    "import numpy as np\n",
    "\n",
    "# We want to record different measurements taken at different dates\n",
    "\n",
    "dates = pd.date_range('20130101', periods=6)\n",
    "\n",
    "print(dates)\n"
   ]
  },
  {
   "cell_type": "code",
   "execution_count": 21,
   "metadata": {},
   "outputs": [
    {
     "name": "stdout",
     "output_type": "stream",
     "text": [
      "                   A         B         C         D\n",
      "2013-01-01  1.038457  1.863826  0.284136 -0.685346\n",
      "2013-01-02  0.092786 -0.806629 -0.540774 -0.741719\n",
      "2013-01-03 -1.513971  2.061782  0.305276  3.137007\n",
      "2013-01-04  0.554381  2.039018  0.438309  0.003846\n",
      "2013-01-05 -0.550535 -1.313742 -1.715077  1.426692\n",
      "2013-01-06  0.317437  1.638710  0.387025  1.033824\n"
     ]
    }
   ],
   "source": [
    "# Lets now create a data frame object that has several columns and is indexed by the dates we created \n",
    "\n",
    "df = pd.DataFrame(np.random.randn(6,4), index=dates, columns=list('ABCD'))\n",
    "\n",
    "print(df)\n"
   ]
  },
  {
   "cell_type": "code",
   "execution_count": 25,
   "metadata": {
    "slideshow": {
     "slide_type": "slide"
    }
   },
   "outputs": [
    {
     "name": "stdout",
     "output_type": "stream",
     "text": [
      "     A          B    C  D      E    F\n",
      "0  1.0 2013-01-02  1.0  3   test  foo\n",
      "1  1.0 2013-01-02  1.0  3  train  foo\n",
      "2  1.0 2013-01-02  1.0  3   test  foo\n",
      "3  1.0 2013-01-02  1.0  3  train  foo\n"
     ]
    }
   ],
   "source": [
    "# data frames can have completely different data types in each column\n",
    "\n",
    "df2 = pd.DataFrame({ 'A' : 1.,\n",
    "                     'B' : pd.Timestamp('20130102'),\n",
    "                     'C' : pd.Series(1,index=list(range(4)),dtype='float32'),\n",
    "                     'D' : np.array([3] * 4,dtype='int32'),\n",
    "                     'E' : pd.Categorical([\"test\",\"train\",\"test\",\"train\"]),\n",
    "                     'F' : 'foo' })\n",
    "\n",
    "print(df2)\n",
    "#print(df2.dtypes)"
   ]
  },
  {
   "cell_type": "code",
   "execution_count": 23,
   "metadata": {},
   "outputs": [
    {
     "name": "stdout",
     "output_type": "stream",
     "text": [
      "0    1.0\n",
      "1    1.0\n",
      "2    1.0\n",
      "3    1.0\n",
      "Name: A, dtype: float64\n"
     ]
    }
   ],
   "source": [
    "# You can select columns by labels\n",
    "\n",
    "print(df2[\"A\"])"
   ]
  },
  {
   "cell_type": "code",
   "execution_count": 24,
   "metadata": {},
   "outputs": [
    {
     "name": "stdout",
     "output_type": "stream",
     "text": [
      "A    1.0\n",
      "C    1.0\n",
      "D    3.0\n",
      "dtype: float64\n"
     ]
    }
   ],
   "source": [
    "# We can perform statistical operations\n",
    "\n",
    "print(df2.mean())"
   ]
  },
  {
   "cell_type": "code",
   "execution_count": 27,
   "metadata": {
    "slideshow": {
     "slide_type": "slide"
    }
   },
   "outputs": [
    {
     "name": "stdout",
     "output_type": "stream",
     "text": [
      "                   A         B         C         D\n",
      "2013-01-01  1.038457  1.863826  0.284136 -0.685346\n",
      "2013-01-02  0.092786 -0.806629 -0.540774 -0.741719\n",
      "2013-01-03 -1.513971  2.061782  0.305276  3.137007\n",
      "2013-01-04  0.554381  2.039018  0.438309  0.003846\n",
      "2013-01-05 -0.550535 -1.313742 -1.715077  1.426692\n",
      "2013-01-06  0.317437  1.638710  0.387025  1.033824\n",
      "                   A         B         C         D\n",
      "2013-01-01  1.038457  1.863826  0.284136 -0.685346\n",
      "2013-01-02  1.131243  1.057197 -0.256638 -1.427065\n",
      "2013-01-03 -0.382729  3.118979  0.048638  1.709942\n",
      "2013-01-04  0.171652  5.157998  0.486947  1.713787\n",
      "2013-01-05 -0.378883  3.844255 -1.228130  3.140479\n",
      "2013-01-06 -0.061446  5.482965 -0.841105  4.174303\n"
     ]
    }
   ],
   "source": [
    "# We can apply numpy functions\n",
    "\n",
    "print(df)\n",
    "print(df.apply(np.cumsum))"
   ]
  },
  {
   "cell_type": "code",
   "execution_count": 28,
   "metadata": {
    "slideshow": {
     "slide_type": "slide"
    }
   },
   "outputs": [
    {
     "data": {
      "image/png": "[encoded data removed]",
      "text/plain": [
       "<Figure size 432x288 with 1 Axes>"
      ]
     },
     "metadata": {},
     "output_type": "display_data"
    }
   ],
   "source": [
    "# We can easily plot data\n",
    "\n",
    "import matplotlib.pyplot as plt\n",
    "\n",
    "df.plot()\n",
    "plt.show()"
   ]
  }
 ],
 "metadata": {
  "celltoolbar": "Slideshow",
  "kernelspec": {
   "display_name": "Python 3",
   "language": "python",
   "name": "python3"
  },
  "language_info": {
   "codemirror_mode": {
    "name": "ipython",
    "version": 3
   },
   "file_extension": ".py",
   "mimetype": "text/x-python",
   "name": "python",
   "nbconvert_exporter": "python",
   "pygments_lexer": "ipython3",
   "version": "3.6.6"
  },
  "toc": {
   "base_numbering": 1,
   "nav_menu": {},
   "number_sections": true,
   "sideBar": false,
   "skip_h1_title": true,
   "title_cell": "Table of Contents",
   "title_sidebar": "Contents",
   "toc_cell": false,
   "toc_position": {},
   "toc_section_display": true,
   "toc_window_display": false
  }
 },
 "nbformat": 4,
 "nbformat_minor": 2
}
