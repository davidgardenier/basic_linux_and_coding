{
 "cells": [
  {
   "cell_type": "markdown",
   "metadata": {
    "slideshow": {
     "slide_type": "slide"
    }
   },
   "source": [
    "# Basic Linux and Coding\n",
    "*David Gardenier & Christian Ginski | University of Amsterdam*"
   ]
  },
  {
   "cell_type": "markdown",
   "metadata": {
    "slideshow": {
     "slide_type": "subslide"
    }
   },
   "source": [
    "## Your teachers\n",
    "\n",
    "* *David Gardenier*\n",
    "  * Research: Mysterious flashes of light called FRBs\n",
    "  * Affiliations: ASTRON | University of Amsterdam\n",
    "  * Contact: gardenier@astron.nl\n",
    "* *Christian Ginski* \n",
    "  * Research: \n",
    "  * Affiliations: University of Amsterdam\n",
    "  * Contact: "
   ]
  },
  {
   "cell_type": "markdown",
   "metadata": {
    "slideshow": {
     "slide_type": "subslide"
    }
   },
   "source": [
    "## Course setup\n",
    "\n",
    "* Lecture once a week\n",
    "* Exam in the eighth week\n",
    "* Self study in between"
   ]
  },
  {
   "cell_type": "markdown",
   "metadata": {
    "slideshow": {
     "slide_type": "subslide"
    }
   },
   "source": [
    "## Course contents\n",
    "\n",
    "1. Linux and Bash\n",
    "2. Python introduction\n",
    "3. Programming style\n",
    "4. File I/O, Numpy and Matplotlib\n",
    "5. Pandas and Scipy\n",
    "6. Astropy\n",
    "7. Programming extras\n",
    "8. Exam"
   ]
  },
  {
   "cell_type": "markdown",
   "metadata": {},
   "source": [
    "## Your skills\n",
    "\n",
    "* Who has worked / works with Linux?"
   ]
  },
  {
   "cell_type": "markdown",
   "metadata": {},
   "source": [
    "## Resources\n",
    "\n",
    "can be found on https://github.com/davidgardenier/basic_linux_and_coding, including\n",
    "\n",
    " * All the lectures\n",
    " * Old assignments\n",
    " * Old exam"
   ]
  },
  {
   "cell_type": "code",
   "execution_count": null,
   "metadata": {},
   "outputs": [],
   "source": []
  }
 ],
 "metadata": {
  "celltoolbar": "Slideshow",
  "kernelspec": {
   "display_name": "Python 3",
   "language": "python",
   "name": "python3"
  },
  "language_info": {
   "codemirror_mode": {
    "name": "ipython",
    "version": 3
   },
   "file_extension": ".py",
   "mimetype": "text/x-python",
   "name": "python",
   "nbconvert_exporter": "python",
   "pygments_lexer": "ipython3",
   "version": "3.6.5"
  }
 },
 "nbformat": 4,
 "nbformat_minor": 2
}
