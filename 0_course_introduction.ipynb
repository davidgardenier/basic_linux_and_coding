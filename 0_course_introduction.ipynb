{
 "cells": [
  {
   "cell_type": "markdown",
   "metadata": {
    "slideshow": {
     "slide_type": "slide"
    }
   },
   "source": [
    "# Basic Linux and Coding\n",
    "*David Gardenier & Christian Ginski | University of Amsterdam*"
   ]
  },
  {
   "cell_type": "markdown",
   "metadata": {
    "slideshow": {
     "slide_type": "subslide"
    }
   },
   "source": [
    "## Your teachers\n",
    "\n",
    "* *David Gardenier*\n",
    "  * Research: Mysterious flashes of light called FRBs\n",
    "  * Affiliations: ASTRON | University of Amsterdam\n",
    "  * Contact: gardenier@astron.nl\n",
    "* *Christian Ginski* \n",
    "  * Research: \n",
    "  * Affiliations: University of Amsterdam\n",
    "  * Contact: "
   ]
  },
  {
   "cell_type": "markdown",
   "metadata": {
    "slideshow": {
     "slide_type": "subslide"
    }
   },
   "source": [
    "## Course setup\n",
    "\n",
    "* Lecture once a week\n",
    "* Exam in the eighth week\n",
    "* Self study in between"
   ]
  },
  {
   "cell_type": "markdown",
   "metadata": {
    "slideshow": {
     "slide_type": "subslide"
    }
   },
   "source": [
    "## Help\n",
    "\n",
    "Help is provided on multiple levels\n",
    "\n",
    "1. Fellow students\n",
    "2. 2nd-year Msc students\n",
    "3. Tutors\n",
    "4. Teachers"
   ]
  },
  {
   "cell_type": "markdown",
   "metadata": {
    "slideshow": {
     "slide_type": "subslide"
    }
   },
   "source": [
    "## Course contents\n",
    "\n",
    "1. Linux and Bash\n",
    "2. Python introduction\n",
    "3. Programming style\n",
    "4. File I/O, Numpy and Matplotlib\n",
    "5. Pandas and Scipy\n",
    "6. Astropy\n",
    "7. Programming extras\n",
    "8. Exam"
   ]
  },
  {
   "cell_type": "markdown",
   "metadata": {},
   "source": [
    "## Your skills"
   ]
  },
  {
   "cell_type": "markdown",
   "metadata": {},
   "source": [
    "* Who has used Linux before?"
   ]
  },
  {
   "cell_type": "markdown",
   "metadata": {},
   "source": [
    "* Who has programmed before?"
   ]
  },
  {
   "cell_type": "markdown",
   "metadata": {},
   "source": [
    "* Who has used Bash before?"
   ]
  },
  {
   "cell_type": "markdown",
   "metadata": {},
   "source": [
    "* Who has used Python before?"
   ]
  },
  {
   "cell_type": "markdown",
   "metadata": {},
   "source": [
    "* Who knows the names of the people sitting next to them?"
   ]
  },
  {
   "cell_type": "markdown",
   "metadata": {},
   "source": [
    "## Resources\n",
    "\n",
    "can be found on https://github.com/davidgardenier/basic_linux_and_coding, including\n",
    "\n",
    " * All the lectures\n",
    " * Old assignments\n",
    " * Old exam\n",
    " * Old syllabus"
   ]
  }
 ],
 "metadata": {
  "celltoolbar": "Slideshow",
  "kernelspec": {
   "display_name": "Python 3",
   "language": "python",
   "name": "python3"
  },
  "language_info": {
   "codemirror_mode": {
    "name": "ipython",
    "version": 3
   },
   "file_extension": ".py",
   "mimetype": "text/x-python",
   "name": "python",
   "nbconvert_exporter": "python",
   "pygments_lexer": "ipython3",
   "version": "3.6.5"
  },
  "toc": {
   "base_numbering": 1,
   "nav_menu": {},
   "number_sections": true,
   "sideBar": false,
   "skip_h1_title": true,
   "title_cell": "Table of Contents",
   "title_sidebar": "Contents",
   "toc_cell": false,
   "toc_position": {},
   "toc_section_display": true,
   "toc_window_display": false
  }
 },
 "nbformat": 4,
 "nbformat_minor": 2
}
