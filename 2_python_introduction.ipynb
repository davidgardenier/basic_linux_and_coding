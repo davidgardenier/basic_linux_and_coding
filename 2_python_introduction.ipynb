{
 "cells": [
  {
   "cell_type": "markdown",
   "metadata": {},
   "source": [
    "# Python Introduction"
   ]
  },
  {
   "cell_type": "markdown",
   "metadata": {
    "toc": true
   },
   "source": [
    "<h1>Table of Contents<span class=\"tocSkip\"></span></h1>\n",
    "<div class=\"toc\"><ul class=\"toc-item\"><li><span><a href=\"#History\" data-toc-modified-id=\"History-1\"><span class=\"toc-item-num\">1&nbsp;&nbsp;</span>History</a></span><ul class=\"toc-item\"><li><span><a href=\"#Versions\" data-toc-modified-id=\"Versions-1.1\"><span class=\"toc-item-num\">1.1&nbsp;&nbsp;</span>Versions</a></span></li></ul></li><li><span><a href=\"#Programming-terms\" data-toc-modified-id=\"Programming-terms-2\"><span class=\"toc-item-num\">2&nbsp;&nbsp;</span>Programming terms</a></span></li><li><span><a href=\"#Running-Python\" data-toc-modified-id=\"Running-Python-3\"><span class=\"toc-item-num\">3&nbsp;&nbsp;</span>Running Python</a></span><ul class=\"toc-item\"><li><span><a href=\"#Interactive-shell\" data-toc-modified-id=\"Interactive-shell-3.1\"><span class=\"toc-item-num\">3.1&nbsp;&nbsp;</span>Interactive shell</a></span></li><li><span><a href=\"#Running-files\" data-toc-modified-id=\"Running-files-3.2\"><span class=\"toc-item-num\">3.2&nbsp;&nbsp;</span>Running files</a></span></li><li><span><a href=\"#IDEs\" data-toc-modified-id=\"IDEs-3.3\"><span class=\"toc-item-num\">3.3&nbsp;&nbsp;</span>IDEs</a></span><ul class=\"toc-item\"><li><span><a href=\"#For-instance,-from-autocompleting-code-...\" data-toc-modified-id=\"For-instance,-from-autocompleting-code-...-3.3.1\"><span class=\"toc-item-num\">3.3.1&nbsp;&nbsp;</span>For instance, from autocompleting code ...</a></span></li><li><span><a href=\"#...-to-check-for-mistakes-...\" data-toc-modified-id=\"...-to-check-for-mistakes-...-3.3.2\"><span class=\"toc-item-num\">3.3.2&nbsp;&nbsp;</span>... to check for mistakes ...</a></span></li><li><span><a href=\"#...-and-interactive-coding\" data-toc-modified-id=\"...-and-interactive-coding-3.3.3\"><span class=\"toc-item-num\">3.3.3&nbsp;&nbsp;</span>... and interactive coding</a></span></li></ul></li><li><span><a href=\"#Jupyter-notebook\" data-toc-modified-id=\"Jupyter-notebook-3.4\"><span class=\"toc-item-num\">3.4&nbsp;&nbsp;</span>Jupyter notebook</a></span><ul class=\"toc-item\"><li><span><a href=\"#Magic-commands\" data-toc-modified-id=\"Magic-commands-3.4.1\"><span class=\"toc-item-num\">3.4.1&nbsp;&nbsp;</span>Magic commands</a></span></li></ul></li></ul></li><li><span><a href=\"#Variables-and-basic-data-types\" data-toc-modified-id=\"Variables-and-basic-data-types-4\"><span class=\"toc-item-num\">4&nbsp;&nbsp;</span>Variables and basic data types</a></span><ul class=\"toc-item\"><li><span><a href=\"#Preface\" data-toc-modified-id=\"Preface-4.1\"><span class=\"toc-item-num\">4.1&nbsp;&nbsp;</span>Preface</a></span><ul class=\"toc-item\"><li><span><a href=\"#Some-terminology\" data-toc-modified-id=\"Some-terminology-4.1.1\"><span class=\"toc-item-num\">4.1.1&nbsp;&nbsp;</span>Some terminology</a></span></li></ul></li></ul></li><li><span><a href=\"#Numbers\" data-toc-modified-id=\"Numbers-5\"><span class=\"toc-item-num\">5&nbsp;&nbsp;</span>Numbers</a></span><ul class=\"toc-item\"><li><span><a href=\"#Integer-(int)\" data-toc-modified-id=\"Integer-(int)-5.1\"><span class=\"toc-item-num\">5.1&nbsp;&nbsp;</span>Integer (<code>int</code>)</a></span></li><li><span><a href=\"#Float-(float)\" data-toc-modified-id=\"Float-(float)-5.2\"><span class=\"toc-item-num\">5.2&nbsp;&nbsp;</span>Float (<code>float</code>)</a></span></li><li><span><a href=\"#Arithmetic\" data-toc-modified-id=\"Arithmetic-5.3\"><span class=\"toc-item-num\">5.3&nbsp;&nbsp;</span>Arithmetic</a></span></li></ul></li><li><span><a href=\"#Words\" data-toc-modified-id=\"Words-6\"><span class=\"toc-item-num\">6&nbsp;&nbsp;</span>Words</a></span><ul class=\"toc-item\"><li><span><a href=\"#Strings-(str)\" data-toc-modified-id=\"Strings-(str)-6.1\"><span class=\"toc-item-num\">6.1&nbsp;&nbsp;</span>Strings (<code>str</code>)</a></span><ul class=\"toc-item\"><li><span><a href=\"#String-manipulations\" data-toc-modified-id=\"String-manipulations-6.1.1\"><span class=\"toc-item-num\">6.1.1&nbsp;&nbsp;</span>String manipulations</a></span></li><li><span><a href=\"#f-strings\" data-toc-modified-id=\"f-strings-6.1.2\"><span class=\"toc-item-num\">6.1.2&nbsp;&nbsp;</span>f-strings</a></span></li><li><span><a href=\"#Escape-sequences\" data-toc-modified-id=\"Escape-sequences-6.1.3\"><span class=\"toc-item-num\">6.1.3&nbsp;&nbsp;</span>Escape sequences</a></span></li></ul></li><li><span><a href=\"#Indexing-and-slicing\" data-toc-modified-id=\"Indexing-and-slicing-6.2\"><span class=\"toc-item-num\">6.2&nbsp;&nbsp;</span>Indexing and slicing</a></span><ul class=\"toc-item\"><li><span><a href=\"#Indexing\" data-toc-modified-id=\"Indexing-6.2.1\"><span class=\"toc-item-num\">6.2.1&nbsp;&nbsp;</span>Indexing</a></span></li><li><span><a href=\"#Slicing\" data-toc-modified-id=\"Slicing-6.2.2\"><span class=\"toc-item-num\">6.2.2&nbsp;&nbsp;</span>Slicing</a></span></li></ul></li><li><span><a href=\"#User-Input\" data-toc-modified-id=\"User-Input-6.3\"><span class=\"toc-item-num\">6.3&nbsp;&nbsp;</span>User Input</a></span></li></ul></li><li><span><a href=\"#Collections\" data-toc-modified-id=\"Collections-7\"><span class=\"toc-item-num\">7&nbsp;&nbsp;</span>Collections</a></span><ul class=\"toc-item\"><li><span><a href=\"#Lists-(list)\" data-toc-modified-id=\"Lists-(list)-7.1\"><span class=\"toc-item-num\">7.1&nbsp;&nbsp;</span>Lists (<code>list</code>)</a></span></li><li><span><a href=\"#Dictionaries-(dict)\" data-toc-modified-id=\"Dictionaries-(dict)-7.2\"><span class=\"toc-item-num\">7.2&nbsp;&nbsp;</span>Dictionaries (<code>dict</code>)</a></span></li><li><span><a href=\"#Tuples-(tuple)\" data-toc-modified-id=\"Tuples-(tuple)-7.3\"><span class=\"toc-item-num\">7.3&nbsp;&nbsp;</span>Tuples (<code>tuple</code>)</a></span></li><li><span><a href=\"#Sets--(set)\" data-toc-modified-id=\"Sets--(set)-7.4\"><span class=\"toc-item-num\">7.4&nbsp;&nbsp;</span>Sets  (<code>set</code>)</a></span></li><li><span><a href=\"#None-vs.-NaN\" data-toc-modified-id=\"None-vs.-NaN-7.5\"><span class=\"toc-item-num\">7.5&nbsp;&nbsp;</span>None vs. NaN</a></span></li><li><span><a href=\"#Some-terminology\" data-toc-modified-id=\"Some-terminology-7.6\"><span class=\"toc-item-num\">7.6&nbsp;&nbsp;</span>Some terminology</a></span></li></ul></li><li><span><a href=\"#Booleans\" data-toc-modified-id=\"Booleans-8\"><span class=\"toc-item-num\">8&nbsp;&nbsp;</span>Booleans</a></span><ul class=\"toc-item\"><li><span><a href=\"#if-statements\" data-toc-modified-id=\"if-statements-8.1\"><span class=\"toc-item-num\">8.1&nbsp;&nbsp;</span>if-statements</a></span></li></ul></li><li><span><a href=\"#Loops-and-iteration\" data-toc-modified-id=\"Loops-and-iteration-9\"><span class=\"toc-item-num\">9&nbsp;&nbsp;</span>Loops and iteration</a></span><ul class=\"toc-item\"><li><span><a href=\"#while-loop\" data-toc-modified-id=\"while-loop-9.1\"><span class=\"toc-item-num\">9.1&nbsp;&nbsp;</span><code>while</code>-loop</a></span></li><li><span><a href=\"#for-loop\" data-toc-modified-id=\"for-loop-9.2\"><span class=\"toc-item-num\">9.2&nbsp;&nbsp;</span><code>for</code>-loop</a></span></li><li><span><a href=\"#Zipping\" data-toc-modified-id=\"Zipping-9.3\"><span class=\"toc-item-num\">9.3&nbsp;&nbsp;</span>Zipping</a></span></li></ul></li></ul></div>"
   ]
  },
  {
   "cell_type": "markdown",
   "metadata": {},
   "source": [
    "## History\n",
    "*Locally sourced*"
   ]
  },
  {
   "cell_type": "markdown",
   "metadata": {},
   "source": [
    "* Est. in 1989\n",
    "* Guido van Rossum at CWI, in the Netherlands\n",
    "* Named after the comedy series 'Monty Python'\n",
    "* Developed for general purpose programming\n",
    "* Modular\n",
    "* Extremely popular"
   ]
  },
  {
   "cell_type": "markdown",
   "metadata": {},
   "source": [
    "### Versions\n",
    "* Python 3.x versus Python 2.x\n",
    "* Libraries have already switched to Python 3.x\n",
    "* Difference in performance\n",
    "* Difference in syntax"
   ]
  },
  {
   "cell_type": "markdown",
   "metadata": {},
   "source": [
    "## Programming terms\n",
    "*Learning the jargon*"
   ]
  },
  {
   "cell_type": "markdown",
   "metadata": {},
   "source": [
    "* *Machine language* | Code executed directly by hardware\n",
    "* *Source code* |  Instructions in a language before converting it to machine language\n",
    "* *Low level programming language* |  Requiring knowledge of hardware\n",
    "* *High level programming language* |  The opposite (eg `python`)"
   ]
  },
  {
   "cell_type": "markdown",
   "metadata": {},
   "source": [
    "* *Compilation* | The act of converting source code to machine language in one go (eg `C`)\n",
    "* *Compiler* |  Program doing the compiling\n",
    "* *Interpreted* |  Source code translated line-by-line into machine language (eg `python`)\n",
    "* *Interpreter* |  Program doing the interpreting\n",
    "    * In Linux/Max this is often referred to as `CPython`, as it's written in `C`"
   ]
  },
  {
   "cell_type": "markdown",
   "metadata": {},
   "source": [
    "## Running Python\n",
    "*Skipping the walking*"
   ]
  },
  {
   "cell_type": "markdown",
   "metadata": {},
   "source": [
    "* Simply start the interpreter with\n",
    "    ```bash\n",
    "    python3\n",
    "    ```\n",
    "* Older versions (if installed) can be accessed with eg `python2.7`"
   ]
  },
  {
   "cell_type": "markdown",
   "metadata": {},
   "source": [
    "### Interactive shell\n",
    "* Annoying having to do things per line, eg\n",
    "    ```python\n",
    "    def function(x):\n",
    "        a = 2\n",
    "        c = 10\n",
    "        return a*x + c\n",
    "    ```"
   ]
  },
  {
   "cell_type": "markdown",
   "metadata": {},
   "source": [
    "* So instead use...\n",
    "    ```bash\n",
    "    ipython3\n",
    "    ```"
   ]
  },
  {
   "cell_type": "markdown",
   "metadata": {},
   "source": [
    "### Running files\n",
    "* Or, run a program with\n",
    "    ```bash\n",
    "    python3 <filename.py>\n",
    "    ```"
   ]
  },
  {
   "cell_type": "markdown",
   "metadata": {},
   "source": [
    "### IDEs\n",
    "\n",
    "* You can edit python code in a 'notebook'-like program\n",
    "* But, Integrated Development Environments (IDEs) can save you a *lot* of time\n",
    "* Code a lot in Python? Try out `Atom`, `Pycharm`, `Spyder` etc."
   ]
  },
  {
   "cell_type": "markdown",
   "metadata": {
    "slideshow": {
     "slide_type": "subslide"
    }
   },
   "source": [
    "#### For instance, from autocompleting code ...\n",
    "![auto_complete](media/auto_complete.gif)"
   ]
  },
  {
   "cell_type": "markdown",
   "metadata": {
    "slideshow": {
     "slide_type": "subslide"
    }
   },
   "source": [
    "#### ... to check for mistakes ...\n",
    "![linter](media/linter.gif)"
   ]
  },
  {
   "cell_type": "markdown",
   "metadata": {
    "slideshow": {
     "slide_type": "subslide"
    }
   },
   "source": [
    "#### ... and interactive coding\n",
    "![hydrogen](media/hydrogen.gif)"
   ]
  },
  {
   "cell_type": "markdown",
   "metadata": {},
   "source": [
    "### Jupyter notebook\n",
    "* Exploring data? `jupyter notebook` provides an easy way to interactively run just the parts of the code you want to change. \n",
    "* While they don't have the functionality of an IDE, for purely exploratory or tutorial reasons they can be pretty convenient as they encourage text amongst code.\n",
    "* A.k.a. `ipython notebook` for historical reasons"
   ]
  },
  {
   "cell_type": "markdown",
   "metadata": {},
   "source": [
    "#### Magic commands\n",
    "Prefaced with a `%`, ipython magic commands allow for quick settings to be applied eg"
   ]
  },
  {
   "cell_type": "code",
   "execution_count": null,
   "metadata": {},
   "outputs": [],
   "source": [
    "%timeit [i for i in range(1000)]  # Long running line of code"
   ]
  },
  {
   "cell_type": "markdown",
   "metadata": {},
   "source": [
    "## Variables and basic data types\n",
    "*Essential knowledge. Nothing variable about it*"
   ]
  },
  {
   "cell_type": "markdown",
   "metadata": {},
   "source": [
    "### Preface\n",
    "Important commands to know before diving in"
   ]
  },
  {
   "cell_type": "code",
   "execution_count": null,
   "metadata": {},
   "outputs": [],
   "source": [
    "# The equals-sign sets a variable\n",
    "a = 5"
   ]
  },
  {
   "cell_type": "markdown",
   "metadata": {},
   "source": [
    "#### Some terminology\n",
    "* There are several standard data types\n",
    "* *Dynamic types* | A variable can refer to any data type\n",
    "* *Static types* | A variable is defined only once"
   ]
  },
  {
   "cell_type": "code",
   "execution_count": null,
   "metadata": {},
   "outputs": [],
   "source": [
    "# This is a comment"
   ]
  },
  {
   "cell_type": "code",
   "execution_count": null,
   "metadata": {},
   "outputs": [],
   "source": [
    "print(3)  # Prints a variable"
   ]
  },
  {
   "cell_type": "code",
   "execution_count": null,
   "metadata": {},
   "outputs": [],
   "source": [
    "type(2)  # Gives the datatype of a variable"
   ]
  },
  {
   "cell_type": "code",
   "execution_count": null,
   "metadata": {},
   "outputs": [],
   "source": [
    "# Examples where it's convenient to set a variable\n",
    "parsec = 648000 / 3.14  # A.U.\n",
    "au = 149597870700  # meters"
   ]
  },
  {
   "cell_type": "markdown",
   "metadata": {},
   "source": [
    "## Numbers\n",
    "*Do you know what's odd? Every other number*"
   ]
  },
  {
   "cell_type": "markdown",
   "metadata": {},
   "source": [
    "### Integer (`int`)\n",
    "Nice and simple numbers eg"
   ]
  },
  {
   "cell_type": "code",
   "execution_count": null,
   "metadata": {},
   "outputs": [],
   "source": [
    "4"
   ]
  },
  {
   "cell_type": "code",
   "execution_count": null,
   "metadata": {},
   "outputs": [],
   "source": [
    "type(4)"
   ]
  },
  {
   "cell_type": "markdown",
   "metadata": {},
   "source": [
    "### Float (`float`)\n",
    "\n",
    "* Floating point numbers\n",
    "* Note there's a limit to the accuracy"
   ]
  },
  {
   "cell_type": "code",
   "execution_count": null,
   "metadata": {},
   "outputs": [],
   "source": [
    "4.4"
   ]
  },
  {
   "cell_type": "code",
   "execution_count": null,
   "metadata": {},
   "outputs": [],
   "source": [
    "4e4"
   ]
  },
  {
   "cell_type": "code",
   "execution_count": null,
   "metadata": {},
   "outputs": [],
   "source": [
    "4*4e4"
   ]
  },
  {
   "cell_type": "code",
   "execution_count": null,
   "metadata": {},
   "outputs": [],
   "source": [
    "float(4)"
   ]
  },
  {
   "cell_type": "markdown",
   "metadata": {},
   "source": [
    "### Arithmetic\n",
    "\n",
    "| Operator   | Meaning   | Example   |\n",
    "| ---------- | --------- | --------- |\n",
    "| +  | Plus | 1 + 2 |\n",
    "| -  | Minus | 1 - 2 |  \n",
    "| *  | Multiply | 2*3 |\n",
    "| ** | Power | 2 ** 3 |\n",
    "| %  | Modulus (Remainder of left/right) | 4 % 3 |\n",
    "| // | Floor division | 2 // 3 |"
   ]
  },
  {
   "cell_type": "markdown",
   "metadata": {},
   "source": [
    "## Words\n",
    "*You can't escape them* "
   ]
  },
  {
   "cell_type": "markdown",
   "metadata": {},
   "source": [
    "### Strings (`str`)\n",
    "~~The violin, viola, cello and double-bass section of an orchestra~~\n",
    "\n",
    "Text of any length eg"
   ]
  },
  {
   "cell_type": "code",
   "execution_count": null,
   "metadata": {},
   "outputs": [],
   "source": [
    "a = 'space alpacas'\n",
    "b = '🐱'\n",
    "c = \"It's a small world\""
   ]
  },
  {
   "cell_type": "markdown",
   "metadata": {},
   "source": [
    "#### String manipulations"
   ]
  },
  {
   "cell_type": "code",
   "execution_count": null,
   "metadata": {},
   "outputs": [],
   "source": [
    "a.title()"
   ]
  },
  {
   "cell_type": "code",
   "execution_count": null,
   "metadata": {},
   "outputs": [],
   "source": [
    "a.upper()"
   ]
  },
  {
   "cell_type": "code",
   "execution_count": null,
   "metadata": {},
   "outputs": [],
   "source": [
    "a.startswith('b')"
   ]
  },
  {
   "cell_type": "code",
   "execution_count": null,
   "metadata": {},
   "outputs": [],
   "source": [
    "a.isdigit()"
   ]
  },
  {
   "cell_type": "markdown",
   "metadata": {},
   "source": [
    "#### f-strings"
   ]
  },
  {
   "cell_type": "code",
   "execution_count": null,
   "metadata": {},
   "outputs": [],
   "source": [
    "a = 'something amazing'\n",
    "b = f'watch {a} right now'\n",
    "print(b)"
   ]
  },
  {
   "cell_type": "markdown",
   "metadata": {},
   "source": [
    "#### Escape sequences"
   ]
  },
  {
   "cell_type": "code",
   "execution_count": null,
   "metadata": {},
   "outputs": [],
   "source": [
    "s = '\\n'  # A newline"
   ]
  },
  {
   "cell_type": "code",
   "execution_count": null,
   "metadata": {},
   "outputs": [],
   "source": [
    "s = '\\t'  # A tab"
   ]
  },
  {
   "cell_type": "markdown",
   "metadata": {},
   "source": [
    "### Indexing and slicing\n",
    "\n",
    "Access data within a string"
   ]
  },
  {
   "cell_type": "code",
   "execution_count": null,
   "metadata": {},
   "outputs": [],
   "source": [
    "s = 'abcdefg'"
   ]
  },
  {
   "cell_type": "markdown",
   "metadata": {},
   "source": [
    "#### Indexing"
   ]
  },
  {
   "cell_type": "code",
   "execution_count": null,
   "metadata": {},
   "outputs": [],
   "source": [
    "s[0]  # Returns the first element"
   ]
  },
  {
   "cell_type": "code",
   "execution_count": null,
   "metadata": {},
   "outputs": [],
   "source": [
    "s[1]"
   ]
  },
  {
   "cell_type": "code",
   "execution_count": null,
   "metadata": {},
   "outputs": [],
   "source": [
    "s[100]"
   ]
  },
  {
   "cell_type": "markdown",
   "metadata": {},
   "source": [
    "#### Slicing"
   ]
  },
  {
   "cell_type": "code",
   "execution_count": null,
   "metadata": {},
   "outputs": [],
   "source": [
    "s[-1]"
   ]
  },
  {
   "cell_type": "code",
   "execution_count": null,
   "metadata": {},
   "outputs": [],
   "source": [
    "s[3:]"
   ]
  },
  {
   "cell_type": "code",
   "execution_count": null,
   "metadata": {},
   "outputs": [],
   "source": [
    "s[:3]"
   ]
  },
  {
   "cell_type": "markdown",
   "metadata": {},
   "source": [
    "### User Input\n",
    "\n",
    "* Often this is not what you want to use\n",
    "* But if necessary..."
   ]
  },
  {
   "cell_type": "code",
   "execution_count": null,
   "metadata": {},
   "outputs": [],
   "source": [
    "name = input('Your name please:')\n",
    "print(f'Hello {name}')"
   ]
  },
  {
   "cell_type": "markdown",
   "metadata": {},
   "source": [
    "## Collections\n",
    "*The hottest of this season's trends*"
   ]
  },
  {
   "cell_type": "markdown",
   "metadata": {},
   "source": [
    "### Lists (`list`)\n",
    "A way to gather values of any type together"
   ]
  },
  {
   "cell_type": "code",
   "execution_count": null,
   "metadata": {},
   "outputs": [],
   "source": [
    "l = [2, 4, 8]"
   ]
  },
  {
   "cell_type": "code",
   "execution_count": null,
   "metadata": {},
   "outputs": [],
   "source": [
    "l = [2, 'a', 8]"
   ]
  },
  {
   "cell_type": "code",
   "execution_count": null,
   "metadata": {},
   "outputs": [],
   "source": [
    "l.append('b')"
   ]
  },
  {
   "cell_type": "code",
   "execution_count": null,
   "metadata": {},
   "outputs": [],
   "source": [
    "l.pop(0)"
   ]
  },
  {
   "cell_type": "code",
   "execution_count": null,
   "metadata": {},
   "outputs": [],
   "source": [
    "l.sort()"
   ]
  },
  {
   "cell_type": "code",
   "execution_count": null,
   "metadata": {},
   "outputs": [],
   "source": [
    "l[2:]"
   ]
  },
  {
   "cell_type": "code",
   "execution_count": null,
   "metadata": {},
   "outputs": [],
   "source": [
    "l[0]"
   ]
  },
  {
   "cell_type": "markdown",
   "metadata": {},
   "source": [
    "### Dictionaries (`dict`)\n",
    "For storing values linked together"
   ]
  },
  {
   "cell_type": "code",
   "execution_count": null,
   "metadata": {},
   "outputs": [],
   "source": [
    "d = {'a':2, 'b':5.0, 1:6, 5.0:'something'}"
   ]
  },
  {
   "cell_type": "code",
   "execution_count": null,
   "metadata": {},
   "outputs": [],
   "source": [
    "d['b']  # Give the key to obtain the value"
   ]
  },
  {
   "cell_type": "code",
   "execution_count": null,
   "metadata": {},
   "outputs": [],
   "source": [
    "d['unknown']  # An unknown key will give an error"
   ]
  },
  {
   "cell_type": "code",
   "execution_count": null,
   "metadata": {},
   "outputs": [],
   "source": [
    "d['c'] = [0, 2, 'a']  # Adding a key"
   ]
  },
  {
   "cell_type": "markdown",
   "metadata": {},
   "source": [
    "### Tuples (`tuple`)"
   ]
  },
  {
   "cell_type": "code",
   "execution_count": null,
   "metadata": {},
   "outputs": [],
   "source": [
    "t_1 = (1, 2, 3, 'abc')"
   ]
  },
  {
   "cell_type": "code",
   "execution_count": null,
   "metadata": {},
   "outputs": [],
   "source": [
    "t_2 = 1, 2,"
   ]
  },
  {
   "cell_type": "code",
   "execution_count": null,
   "metadata": {},
   "outputs": [],
   "source": [
    "t_3 = (1)"
   ]
  },
  {
   "cell_type": "code",
   "execution_count": null,
   "metadata": {},
   "outputs": [],
   "source": [
    "t_1[0]"
   ]
  },
  {
   "cell_type": "code",
   "execution_count": null,
   "metadata": {},
   "outputs": [],
   "source": [
    "t_1[1:]"
   ]
  },
  {
   "cell_type": "code",
   "execution_count": null,
   "metadata": {},
   "outputs": [],
   "source": [
    "t_1[0] = 'error'  # You can't reassign a value"
   ]
  },
  {
   "cell_type": "markdown",
   "metadata": {},
   "source": [
    "### Sets  (`set`)\n",
    "Lists where order doesn't matter"
   ]
  },
  {
   "cell_type": "code",
   "execution_count": null,
   "metadata": {},
   "outputs": [],
   "source": [
    "s = set()\n",
    "s.add(1)\n",
    "s.add(2)  # You can't assume this is ordered"
   ]
  },
  {
   "cell_type": "code",
   "execution_count": null,
   "metadata": {},
   "outputs": [],
   "source": [
    "s.add(2)  # Elements are not repeated\n",
    "s"
   ]
  },
  {
   "cell_type": "markdown",
   "metadata": {},
   "source": [
    "### None vs. NaN\n",
    "* Missing a value? "
   ]
  },
  {
   "cell_type": "code",
   "execution_count": null,
   "metadata": {},
   "outputs": [],
   "source": [
    "a = None"
   ]
  },
  {
   "cell_type": "markdown",
   "metadata": {},
   "source": [
    "* Not a number, but you want to perform operations on a range of values?"
   ]
  },
  {
   "cell_type": "code",
   "execution_count": null,
   "metadata": {},
   "outputs": [],
   "source": [
    "a = [1., 2., 3., float('NaN')]\n",
    "a[-1]*2"
   ]
  },
  {
   "cell_type": "markdown",
   "metadata": {},
   "source": [
    "### Some terminology\n",
    "* Mutable values |  Values which can change\n",
    "* Immutable values | Values which do not change"
   ]
  },
  {
   "cell_type": "code",
   "execution_count": null,
   "metadata": {},
   "outputs": [],
   "source": [
    "# Immutable\n",
    "a = 'hello world'\n",
    "a"
   ]
  },
  {
   "cell_type": "code",
   "execution_count": null,
   "metadata": {},
   "outputs": [],
   "source": [
    "a.title()"
   ]
  },
  {
   "cell_type": "code",
   "execution_count": null,
   "metadata": {},
   "outputs": [],
   "source": [
    "a"
   ]
  },
  {
   "cell_type": "code",
   "execution_count": null,
   "metadata": {},
   "outputs": [],
   "source": [
    "# Mutable\n",
    "l = [8, 2, 4]\n",
    "l"
   ]
  },
  {
   "cell_type": "code",
   "execution_count": null,
   "metadata": {},
   "outputs": [],
   "source": [
    "l.sort()"
   ]
  },
  {
   "cell_type": "code",
   "execution_count": null,
   "metadata": {},
   "outputs": [],
   "source": [
    "l"
   ]
  },
  {
   "cell_type": "markdown",
   "metadata": {},
   "source": [
    "## Booleans\n",
    "*True or False?*"
   ]
  },
  {
   "cell_type": "code",
   "execution_count": null,
   "metadata": {},
   "outputs": [],
   "source": [
    "b = True"
   ]
  },
  {
   "cell_type": "code",
   "execution_count": null,
   "metadata": {},
   "outputs": [],
   "source": [
    "1 > 2"
   ]
  },
  {
   "cell_type": "code",
   "execution_count": null,
   "metadata": {},
   "outputs": [],
   "source": [
    "2 > 1"
   ]
  },
  {
   "cell_type": "code",
   "execution_count": null,
   "metadata": {},
   "outputs": [],
   "source": [
    "a = 10\n",
    "b = 5"
   ]
  },
  {
   "cell_type": "code",
   "execution_count": null,
   "metadata": {},
   "outputs": [],
   "source": [
    "a >= b"
   ]
  },
  {
   "cell_type": "code",
   "execution_count": null,
   "metadata": {},
   "outputs": [],
   "source": [
    "t = True\n",
    "f = False"
   ]
  },
  {
   "cell_type": "code",
   "execution_count": null,
   "metadata": {},
   "outputs": [],
   "source": [
    "t and t"
   ]
  },
  {
   "cell_type": "code",
   "execution_count": null,
   "metadata": {},
   "outputs": [],
   "source": [
    "t and f"
   ]
  },
  {
   "cell_type": "code",
   "execution_count": null,
   "metadata": {},
   "outputs": [],
   "source": [
    "t or f"
   ]
  },
  {
   "cell_type": "code",
   "execution_count": null,
   "metadata": {},
   "outputs": [],
   "source": [
    "t or t"
   ]
  },
  {
   "cell_type": "code",
   "execution_count": null,
   "metadata": {},
   "outputs": [],
   "source": [
    "not t"
   ]
  },
  {
   "cell_type": "code",
   "execution_count": null,
   "metadata": {},
   "outputs": [],
   "source": [
    "not f"
   ]
  },
  {
   "cell_type": "code",
   "execution_count": null,
   "metadata": {},
   "outputs": [],
   "source": [
    "l_1 = []\n",
    "l_2 = [1, 2, 3, 4]"
   ]
  },
  {
   "cell_type": "code",
   "execution_count": null,
   "metadata": {},
   "outputs": [],
   "source": [
    "bool(l_1)"
   ]
  },
  {
   "cell_type": "code",
   "execution_count": null,
   "metadata": {},
   "outputs": [],
   "source": [
    "bool(l_2)"
   ]
  },
  {
   "cell_type": "markdown",
   "metadata": {},
   "source": [
    "### if-statements\n",
    "Note indents should be 4 spaces wide"
   ]
  },
  {
   "cell_type": "code",
   "execution_count": null,
   "metadata": {},
   "outputs": [],
   "source": [
    "if True:\n",
    "    print('This will be printed')\n",
    "if False:\n",
    "    print('This will never be printed')"
   ]
  },
  {
   "cell_type": "code",
   "execution_count": null,
   "metadata": {},
   "outputs": [],
   "source": [
    "x = 10\n",
    "y = 20\n",
    "\n",
    "if x > y:\n",
    "    print('x is greater than y')\n",
    "else:\n",
    "    print('x is smaller or equal to y')"
   ]
  },
  {
   "cell_type": "code",
   "execution_count": null,
   "metadata": {},
   "outputs": [],
   "source": [
    "x = 10\n",
    "\n",
    "if x > 0:\n",
    "    print('x is positive')\n",
    "elif x == 0:\n",
    "    print('x is zero')\n",
    "else:\n",
    "    print('x is negative')"
   ]
  },
  {
   "cell_type": "markdown",
   "metadata": {},
   "source": [
    "## Loops and iteration\n",
    "*Over and over again*"
   ]
  },
  {
   "cell_type": "markdown",
   "metadata": {},
   "source": [
    "### `while`-loop"
   ]
  },
  {
   "cell_type": "code",
   "execution_count": null,
   "metadata": {},
   "outputs": [],
   "source": [
    "i = 0\n",
    "\n",
    "while i < 10:\n",
    "    print(i)\n",
    "    i += 1  # Fancy way of saying i = i + 1\n",
    "else:\n",
    "    print('i is equal or larger than 10')"
   ]
  },
  {
   "cell_type": "code",
   "execution_count": null,
   "metadata": {},
   "outputs": [],
   "source": [
    "detected = False\n",
    "i = 1\n",
    "\n",
    "while not detected:\n",
    "    i *= 2\n",
    "    \n",
    "    if i == 8:\n",
    "        print('Halfway')\n",
    "        continue  # Skips the rest, starts with the next loop\n",
    "    \n",
    "    print(i)\n",
    "    \n",
    "    if i == 16:\n",
    "        break  # or detected = True"
   ]
  },
  {
   "cell_type": "markdown",
   "metadata": {},
   "source": [
    "### `for`-loop"
   ]
  },
  {
   "cell_type": "code",
   "execution_count": null,
   "metadata": {},
   "outputs": [],
   "source": [
    "s = 'abcdefg'\n",
    "\n",
    "for character in s:\n",
    "    if character == 'a':\n",
    "        continue\n",
    "    elif character == 'z':\n",
    "        break\n",
    "    else:\n",
    "        print(character)\n",
    "else:\n",
    "    print('No z to be found')"
   ]
  },
  {
   "cell_type": "code",
   "execution_count": null,
   "metadata": {},
   "outputs": [],
   "source": [
    "l = [0 ,1, 2, 4]\n",
    "\n",
    "for element in l:\n",
    "    print(l)"
   ]
  },
  {
   "cell_type": "code",
   "execution_count": null,
   "metadata": {},
   "outputs": [],
   "source": [
    "l = ['a', 'b', 'c']\n",
    "\n",
    "for i, element in enumerate(l):\n",
    "    print(i, element)"
   ]
  },
  {
   "cell_type": "code",
   "execution_count": null,
   "metadata": {},
   "outputs": [],
   "source": [
    "for i in range(5):\n",
    "    print(i)"
   ]
  },
  {
   "cell_type": "code",
   "execution_count": null,
   "metadata": {
    "scrolled": true
   },
   "outputs": [],
   "source": [
    "l = [('a', 'b'), ('x', 'y'), ('p', 'q')]\n",
    "\n",
    "for c_1, c_2 in l:\n",
    "    print(c_1, c_2)    "
   ]
  },
  {
   "cell_type": "code",
   "execution_count": null,
   "metadata": {},
   "outputs": [],
   "source": [
    "d = {1:'a', 2:'b', 3:'c'}\n",
    "\n",
    "for key in d:\n",
    "    print(key)"
   ]
  },
  {
   "cell_type": "code",
   "execution_count": null,
   "metadata": {},
   "outputs": [],
   "source": [
    "for value in d.values():\n",
    "    print(value)"
   ]
  },
  {
   "cell_type": "code",
   "execution_count": null,
   "metadata": {},
   "outputs": [],
   "source": [
    "for key, value in d.items():\n",
    "    print(key, value)"
   ]
  },
  {
   "cell_type": "code",
   "execution_count": null,
   "metadata": {},
   "outputs": [],
   "source": [
    "for key in d:\n",
    "    print(key, d[key])"
   ]
  },
  {
   "cell_type": "markdown",
   "metadata": {},
   "source": [
    "### Zipping"
   ]
  },
  {
   "cell_type": "code",
   "execution_count": null,
   "metadata": {},
   "outputs": [],
   "source": [
    "l_1 = ['a', 'b', 'c']\n",
    "l_2 = [0 , 1, 2]\n",
    "\n",
    "result = list(zip(l_1, l_2))\n",
    "result"
   ]
  },
  {
   "cell_type": "code",
   "execution_count": null,
   "metadata": {},
   "outputs": [],
   "source": [
    "a, b = zip(*result)\n",
    "a, b"
   ]
  }
 ],
 "metadata": {
  "celltoolbar": "Slideshow",
  "kernelspec": {
   "display_name": "Python 3",
   "language": "python",
   "name": "python3"
  },
  "language_info": {
   "codemirror_mode": {
    "name": "ipython",
    "version": 3
   },
   "file_extension": ".py",
   "mimetype": "text/x-python",
   "name": "python",
   "nbconvert_exporter": "python",
   "pygments_lexer": "ipython3",
   "version": "3.6.5"
  },
  "toc": {
   "base_numbering": 1,
   "nav_menu": {
    "height": "617px",
    "width": "404px"
   },
   "number_sections": true,
   "sideBar": true,
   "skip_h1_title": true,
   "title_cell": "Table of Contents",
   "title_sidebar": "Contents",
   "toc_cell": true,
   "toc_position": {
    "height": "calc(100% - 180px)",
    "left": "10px",
    "top": "150px",
    "width": "165px"
   },
   "toc_section_display": true,
   "toc_window_display": false
  }
 },
 "nbformat": 4,
 "nbformat_minor": 2
}
