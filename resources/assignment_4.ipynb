{
 "cells": [
  {
   "cell_type": "markdown",
   "metadata": {},
   "source": [
    "### Homework submission by:\n",
    "* Name:\n",
    "* Student number:"
   ]
  },
  {
   "cell_type": "markdown",
   "metadata": {},
   "source": [
    "# Assignment week 5: Numpy Arrays / Matplotlib for Arrays\n",
    "\n",
    "This weeks we will go over the basics of Numpy arrays. Numpy arrays are used all over scientific software written in\n",
    "Python. Numpy provides a fast array datatype and functions that act on it, libraries like Scipy and Astropy then use\n",
    "these arrays to provide more specialized routines. We will use Jupyter (formerly known as Ipython Notebook) for our\n",
    "homework this week. You must complete the assignments in this notebook and hand in the notebook containing your \n",
    "answers and code (clearly marked with your name and student number). \n",
    "\n",
    "### Important notes regarding the homework:\n",
    "You are not to use any `Scipy` functions unless specifically told so. In particular you are **not allowed** to use:\n",
    "* `scipy.misc.imread`\n",
    "* `matplotlib.pyplot.imread`\n",
    "* `scipy.ndimage.imread`\n",
    "\n",
    "Numpy speeds up code only if you use it appropriately, writing \"manual\" loops will slow things down.\n",
    "\n",
    "Your code must run, check that it does before handing in.\n",
    "\n",
    "\n",
    "### Grading\n",
    "* Handing in: 1 point\n",
    "* Style (Code, Plots, General): 3 points\n",
    "* Assignments\n",
    "    * Part 1: 0.5 points\n",
    "    * Part 2: 0.5 points\n",
    "    * Part 3: 1.0 points\n",
    "    * Part 4: 1.5 points\n",
    "    * Part 5: 1.0 points\n",
    "    * Part 6: 1.5 points\n",
    "\n",
    "The usual penalty for handing in late is applied this week as well."
   ]
  },
  {
   "cell_type": "markdown",
   "metadata": {},
   "source": [
    "### Part 1: Reading an image\n",
    "*This assignment is worth 0.5 points.*\n",
    "\n",
    "* Download the photo provided at \n",
    "* **Assignment:** Write a function `imread` that can read an image from disk and convert it to a Numpy array.\n",
    "    * Use the `Pillow` library to read the image. If you do not have Pillow installed, install it first.\n",
    "    * Numpy has a function that converts an image to an array.\n",
    "    * Answer the question below!"
   ]
  },
  {
   "cell_type": "code",
   "execution_count": 4,
   "metadata": {},
   "outputs": [],
   "source": [
    "# Note this cell only contains imports that are needed for this exercise. \n",
    "# If you get an ImportError when you run this cell, make sure to install the required Python packages.\n",
    "%matplotlib inline\n",
    "from PIL import Image  # (this uses Pillow on a recent installation!)\n",
    "from matplotlib import pyplot\n",
    "import numpy as np"
   ]
  },
  {
   "cell_type": "code",
   "execution_count": 9,
   "metadata": {},
   "outputs": [
    {
     "name": "stdout",
     "output_type": "stream",
     "text": [
      " Shape (640, 427)\n",
      "Channels 3\n"
     ]
    }
   ],
   "source": [
    "# Add code that uses the Pillow `Image` class to load an image, and numpy code to turn it into an array:\n",
    "\n",
    "\n",
    "def imread(filename):\n",
    "    \"\"\"Read an image, return a Numpy array.\"\"\"\n",
    "    im = Image.open(filename)\n",
    "    return np.asarray(im, dtype=np.uint8)\n",
    "\n",
    "\n",
    "ar = imread('spacex-intelsat-35e.jpg')  # ar will be reused below\n",
    "\n",
    "print 'Shape', ar.shape[:2]\n",
    "print 'Channels', ar.shape[2]"
   ]
  },
  {
   "cell_type": "markdown",
   "metadata": {},
   "source": [
    "* **Qestion**: How many pixels and how many channels does this image have? How can you find out using only Numpy?\n",
    "  Add code **below and outside** of `imread` to print the image size and number of channels.\n",
    "* **Answer**: ..."
   ]
  },
  {
   "cell_type": "markdown",
   "metadata": {},
   "source": [
    "### Part 2: Creating a grayscale image\n",
    "The `make_grayscale` function below creates a grayscale version of your color image.\n",
    "* **Assignment**: Adapt the `make_grayscale` function to either use `numpy.dot` or `numpy.matmul` to perform the calculation. Answer the question below."
   ]
  },
  {
   "cell_type": "code",
   "execution_count": null,
   "metadata": {
    "collapsed": true
   },
   "outputs": [],
   "source": [
    "# Rewrite `make_grayscale` such that it uses `numpy.matmul` or `numpy.dot`.\n",
    "\n",
    "def make_grayscale(im_array):\n",
    "    \"\"\"Take a RGB color image (in array form) and return a grayscale (single channel) image.\"\"\"\n",
    "    return 0.2126 * im_array[:, :, 0] + 0.7152 * im_array[:, :, 1] + 0.0722 * im_array[:, :, 2]\n",
    "    \n",
    "pyplot.imshow(make_grayscale(ar))\n",
    "pyplot.axis('Off')"
   ]
  },
  {
   "cell_type": "markdown",
   "metadata": {},
   "source": [
    "* **Question**: The image shows up with color, but has only one channel when you check it.\n",
    "  Explain why this is the case and how you can fix it (where fix means to show the image as a grayscale one).\n",
    "  Demonstrate your fix by adapting the code above.\n",
    "* **Answer**: ..."
   ]
  },
  {
   "cell_type": "markdown",
   "metadata": {},
   "source": [
    "### Part 3: Color channels (more on color maps)\n",
    "The function below demonstrates how you can extract the individual channels in an RGB image and how you can plot\n",
    "them using Matplotlib."
   ]
  },
  {
   "cell_type": "code",
   "execution_count": null,
   "metadata": {
    "collapsed": true
   },
   "outputs": [],
   "source": [
    "def show_channels(im_array):\n",
    "    \"\"\"Plot the individual channels in an RGB image.\"\"\"\n",
    "    titles = ['Red channel', 'Green channel', 'Blue channel']\n",
    "\n",
    "    #  prepare the figure/axes to plot to:\n",
    "    fig, axes = pyplot.subplots(nrows=1, ncols=4)\n",
    "    w, h = fig.get_size_inches()\n",
    "    fig.set_size_inches(4 * w, h)\n",
    "    \n",
    "    # separate the channels, plot them\n",
    "    for i, t in enumerate(titles):\n",
    "        channel = numpy.zeros_like(im_array)\n",
    "        channel[:, :, i] = ar[:, :, i]\n",
    "\n",
    "        axes[i].imshow(channel)\n",
    "        axes[i].set_title(t)\n",
    "        axes[i].axis('Off')\n",
    "        \n",
    "        print t, 'has array shape', channel.shape\n",
    "    \n",
    "    # plot the original image for comparison\n",
    "    axes[3].imshow(im_array)\n",
    "    axes[3].set_title('Original image')\n",
    "    axes[3].axis('Off')\n",
    "\n",
    "show_channels(ar)"
   ]
  },
  {
   "cell_type": "markdown",
   "metadata": {},
   "source": [
    "* **Assignment**: The function above seperates the channels by setting the other channels to zero.\n",
    "  You must change this function to create individual color channels that have a shape of (640, 427) --- for instance,\n",
    "  the blue channel image should not contain red and green channels set to zero. Make sure that\n",
    "  the individual channels can be plotted correctly (this involves creating your own color mappings in Matplotlib).\n",
    "* **Hint**:\n",
    "    * Use `matplotlib.colors.LinearSegmentedColormap` to create color maps for the individual channels. You will \n",
    "      need three of these color maps.\n",
    "    * The plot at the end should not change if you created the correct color maps."
   ]
  },
  {
   "cell_type": "markdown",
   "metadata": {},
   "source": [
    "### Part 4: Color channel histograms\n",
    "* **Assignment**: In this exercise you should create histograms for the individual red, green, blue channels. \n",
    "* **Hint**:\n",
    "    * Use the `matplotlib.pyplot.hist` function to generate and plot the histograms.\n",
    "    * The image below gives an idea of what the histograms should look like, note that it intentionally leaves\n",
    "      out the axes labels --- **you will have to create appropriate labels**. Answer he question below.\n",
    "\n",
    "<img src=\"files/rgb-hist-hint.png\">"
   ]
  },
  {
   "cell_type": "code",
   "execution_count": null,
   "metadata": {
    "collapsed": true
   },
   "outputs": [],
   "source": [
    "def plot_rgb_histograms(im_array):\n",
    "    pass  # add your plotting code here\n",
    "\n",
    "plot_rgb_histograms(ar)"
   ]
  },
  {
   "cell_type": "markdown",
   "metadata": {},
   "source": [
    "* **Question**: When you create a histogram, you can choose the number of bins. What is the appropriate number in this\n",
    "  case. Study the arrays you are using to come to your answer. Implement your choice in the code above, make sure that\n",
    "  the labeling on the x axis is on and shows this choice.\n",
    "* **Answer**: ..."
   ]
  },
  {
   "cell_type": "markdown",
   "metadata": {},
   "source": [
    "### Part 5: Generating grids in Numpy\n",
    "Numpy has functions to generate grids of values that can then be passed to functions and evaluated in one go.\n",
    "Note how in the example below you do not have to write a loop over all values of x in the array created by `numpy.linspace` . By avoiding loops in Python you will create faster running programs."
   ]
  },
  {
   "cell_type": "code",
   "execution_count": null,
   "metadata": {
    "collapsed": true
   },
   "outputs": [],
   "source": [
    "# example code\n",
    "x = numpy.linspace(0, 2 * numpy.pi, 100)\n",
    "y = numpy.sin(x)\n",
    "\n",
    "pyplot.plot(x, y)\n",
    "pyplot.xlabel('$x$')\n",
    "pyplot.ylabel('$\\sin(x)$')"
   ]
  },
  {
   "cell_type": "markdown",
   "metadata": {},
   "source": [
    "* **Assigment**: In this exercise you will use the `numpy.meshgrid` and `numpy.linspace` to generate a grid on which\n",
    "  to evaluate a mathematical function (defined below) and then create a plot using `matplotlib.pyplot.imshow`.\n",
    "    * Evaluate the function $f(x, y) = \\sin(\\sqrt{(x - \\pi)^2 + (y - \\pi)^2}) \\sin(\\sqrt{(x - 5\\pi)^2 + (y - 5\\pi)^2}).$\n",
    "    * Use the domain: $x \\in [0, 12\\pi], y \\in [0, 12\\pi]$\n",
    "    * Make sure that the axes are labeled correctly, so that they show the domain over which the function was evaluated.\n",
    "* **Hints**:\n",
    "    * Use `numpy.sin` and not `math.sin`.\n",
    "    * This function looks as follows (this example is using an arbitrary color map and leaving out the axes labels\n",
    "      intentionally - **you, however, should add axis labels**):\n",
    "    \n",
    "<img src=\"files/func-example.png\">"
   ]
  },
  {
   "cell_type": "code",
   "execution_count": null,
   "metadata": {
    "collapsed": true
   },
   "outputs": [],
   "source": [
    "# Add your code here (generate a grid, evaluate the function and plot it).\n"
   ]
  },
  {
   "cell_type": "markdown",
   "metadata": {},
   "source": [
    "### Part 6: Unsharp masking\n",
    "A technique that is oftern used to sharpen images is so-called unsharp masking. In this assignment you will build your\n",
    "own implementation of Unsharp masking. (*This part of the assignment is intentionally a bit harder than the rest \n",
    "of it!*)\n",
    "\n",
    "Assignment:\n",
    "* Read the Wikipedia page on unsharp masking: https://en.wikipedia.org/wiki/Unsharp_masking\n",
    "* Implement the algorithm that is described on that page.\n",
    "* Your submission should contain the code that implements this algorithm (put it below).\n",
    "* Your submission should contain two grayscale images: the original one and for comparison the unsharp-masked one.\n",
    "  These images should be included in the report - to see how that is done, check the two example images above.\n",
    "\n",
    "Hints:\n",
    "* Building a version of the algorithm that works for black and white images is enough. If your implementation\n",
    "  receives a color image you are allowed to turn that into a grayscale image instead (and use that as input).\n",
    "* Matplotlib will scale your images as it sees fit (both in size and in color mapping). To check whether your\n",
    "  implementation works it is better to save an PNG image to disk (not JPEG, as that is a \"lossy\" format) than\n",
    "  to create plots using `matplotlib.pyplot.imshow`.\n",
    "* It is convenient to work in floating point numbers for the intermediate steps of the algorithm.\n",
    "* Saving to disk needs `uint8` as datatype; rescale the values if needed (!) and change the datatype of the \n",
    "  image array.\n",
    "* It is useful to make plots/figures of the intermediate results. Be careful because Matplotlib will rescale\n",
    "  inputs automatically (use `vmin` and `vmax` keyword arguments appropriately to override this behavior).\n",
    "  \n",
    "Note on handing in:\n",
    "* Make sure it is easy to run your code on a test image."
   ]
  },
  {
   "cell_type": "code",
   "execution_count": null,
   "metadata": {
    "collapsed": true
   },
   "outputs": [],
   "source": [
    "# Implement the unsharp mask method of image sharpening here."
   ]
  }
 ],
 "metadata": {
  "kernelspec": {
   "display_name": "Python 2",
   "language": "python",
   "name": "python2"
  },
  "language_info": {
   "codemirror_mode": {
    "name": "ipython",
    "version": 2
   },
   "file_extension": ".py",
   "mimetype": "text/x-python",
   "name": "python",
   "nbconvert_exporter": "python",
   "pygments_lexer": "ipython2",
   "version": "2.7.13"
  }
 },
 "nbformat": 4,
 "nbformat_minor": 2
}
